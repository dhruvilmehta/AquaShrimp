{
 "cells": [
  {
   "cell_type": "code",
   "execution_count": 1,
   "id": "126d5076-d66a-4a7d-b9aa-6f864207b321",
   "metadata": {},
   "outputs": [],
   "source": [
    "import pandas as pd\n",
    "import numpy as np \n",
    "import seaborn as sns\n",
    "import matplotlib.pyplot as plt \n",
    "%matplotlib inline\n",
    "from sklearn.model_selection import train_test_split "
   ]
  },
  {
   "cell_type": "code",
   "execution_count": 2,
   "id": "f199ec30-3cec-4b77-ac0f-5e82ae3523fd",
   "metadata": {},
   "outputs": [
    {
     "data": {
      "text/html": [
       "<div>\n",
       "<style scoped>\n",
       "    .dataframe tbody tr th:only-of-type {\n",
       "        vertical-align: middle;\n",
       "    }\n",
       "\n",
       "    .dataframe tbody tr th {\n",
       "        vertical-align: top;\n",
       "    }\n",
       "\n",
       "    .dataframe thead th {\n",
       "        text-align: right;\n",
       "    }\n",
       "</style>\n",
       "<table border=\"1\" class=\"dataframe\">\n",
       "  <thead>\n",
       "    <tr style=\"text-align: right;\">\n",
       "      <th></th>\n",
       "      <th>DO(ppm)</th>\n",
       "      <th>pH</th>\n",
       "      <th>Temperature(*C)</th>\n",
       "      <th>Salinity(ppt)</th>\n",
       "      <th>TDS</th>\n",
       "      <th>Health</th>\n",
       "    </tr>\n",
       "  </thead>\n",
       "  <tbody>\n",
       "    <tr>\n",
       "      <th>0</th>\n",
       "      <td>3.7</td>\n",
       "      <td>7.3</td>\n",
       "      <td>29</td>\n",
       "      <td>22.9</td>\n",
       "      <td>232</td>\n",
       "      <td>0</td>\n",
       "    </tr>\n",
       "    <tr>\n",
       "      <th>1</th>\n",
       "      <td>5.4</td>\n",
       "      <td>10.5</td>\n",
       "      <td>30</td>\n",
       "      <td>20.3</td>\n",
       "      <td>65</td>\n",
       "      <td>0</td>\n",
       "    </tr>\n",
       "    <tr>\n",
       "      <th>2</th>\n",
       "      <td>3.6</td>\n",
       "      <td>7.5</td>\n",
       "      <td>26</td>\n",
       "      <td>19.7</td>\n",
       "      <td>263</td>\n",
       "      <td>0</td>\n",
       "    </tr>\n",
       "    <tr>\n",
       "      <th>3</th>\n",
       "      <td>5.8</td>\n",
       "      <td>10.0</td>\n",
       "      <td>30</td>\n",
       "      <td>12.8</td>\n",
       "      <td>81</td>\n",
       "      <td>0</td>\n",
       "    </tr>\n",
       "    <tr>\n",
       "      <th>4</th>\n",
       "      <td>3.6</td>\n",
       "      <td>7.1</td>\n",
       "      <td>31</td>\n",
       "      <td>12.3</td>\n",
       "      <td>57</td>\n",
       "      <td>0</td>\n",
       "    </tr>\n",
       "  </tbody>\n",
       "</table>\n",
       "</div>"
      ],
      "text/plain": [
       "   DO(ppm)    pH  Temperature(*C)  Salinity(ppt)  TDS  Health\n",
       "0      3.7   7.3               29           22.9  232       0\n",
       "1      5.4  10.5               30           20.3   65       0\n",
       "2      3.6   7.5               26           19.7  263       0\n",
       "3      5.8  10.0               30           12.8   81       0\n",
       "4      3.6   7.1               31           12.3   57       0"
      ]
     },
     "execution_count": 2,
     "metadata": {},
     "output_type": "execute_result"
    }
   ],
   "source": [
    "data = pd.read_csv('./aq4.csv')\n",
    "data.head()"
   ]
  },
  {
   "cell_type": "code",
   "execution_count": 3,
   "id": "23862899-5a4b-4174-8e61-70bb984e4d52",
   "metadata": {},
   "outputs": [
    {
     "name": "stdout",
     "output_type": "stream",
     "text": [
      "[0 0 0 ... 1 1 1]\n"
     ]
    }
   ],
   "source": [
    "Y=data.iloc[:,5].values\n",
    "print(Y)"
   ]
  },
  {
   "cell_type": "code",
   "execution_count": 4,
   "id": "3fb530d2-a5f6-4ab9-989c-0cf13d45bbb5",
   "metadata": {},
   "outputs": [
    {
     "data": {
      "text/html": [
       "<div>\n",
       "<style scoped>\n",
       "    .dataframe tbody tr th:only-of-type {\n",
       "        vertical-align: middle;\n",
       "    }\n",
       "\n",
       "    .dataframe tbody tr th {\n",
       "        vertical-align: top;\n",
       "    }\n",
       "\n",
       "    .dataframe thead th {\n",
       "        text-align: right;\n",
       "    }\n",
       "</style>\n",
       "<table border=\"1\" class=\"dataframe\">\n",
       "  <thead>\n",
       "    <tr style=\"text-align: right;\">\n",
       "      <th></th>\n",
       "      <th>DO(ppm)</th>\n",
       "      <th>pH</th>\n",
       "      <th>Temperature(*C)</th>\n",
       "      <th>Salinity(ppt)</th>\n",
       "      <th>TDS</th>\n",
       "    </tr>\n",
       "  </thead>\n",
       "  <tbody>\n",
       "    <tr>\n",
       "      <th>0</th>\n",
       "      <td>3.7</td>\n",
       "      <td>7.3</td>\n",
       "      <td>29</td>\n",
       "      <td>22.9</td>\n",
       "      <td>232</td>\n",
       "    </tr>\n",
       "    <tr>\n",
       "      <th>1</th>\n",
       "      <td>5.4</td>\n",
       "      <td>10.5</td>\n",
       "      <td>30</td>\n",
       "      <td>20.3</td>\n",
       "      <td>65</td>\n",
       "    </tr>\n",
       "    <tr>\n",
       "      <th>2</th>\n",
       "      <td>3.6</td>\n",
       "      <td>7.5</td>\n",
       "      <td>26</td>\n",
       "      <td>19.7</td>\n",
       "      <td>263</td>\n",
       "    </tr>\n",
       "    <tr>\n",
       "      <th>3</th>\n",
       "      <td>5.8</td>\n",
       "      <td>10.0</td>\n",
       "      <td>30</td>\n",
       "      <td>12.8</td>\n",
       "      <td>81</td>\n",
       "    </tr>\n",
       "    <tr>\n",
       "      <th>4</th>\n",
       "      <td>3.6</td>\n",
       "      <td>7.1</td>\n",
       "      <td>31</td>\n",
       "      <td>12.3</td>\n",
       "      <td>57</td>\n",
       "    </tr>\n",
       "    <tr>\n",
       "      <th>...</th>\n",
       "      <td>...</td>\n",
       "      <td>...</td>\n",
       "      <td>...</td>\n",
       "      <td>...</td>\n",
       "      <td>...</td>\n",
       "    </tr>\n",
       "    <tr>\n",
       "      <th>6992</th>\n",
       "      <td>3.7</td>\n",
       "      <td>8.1</td>\n",
       "      <td>26</td>\n",
       "      <td>23.6</td>\n",
       "      <td>190</td>\n",
       "    </tr>\n",
       "    <tr>\n",
       "      <th>6993</th>\n",
       "      <td>3.5</td>\n",
       "      <td>7.4</td>\n",
       "      <td>31</td>\n",
       "      <td>12.1</td>\n",
       "      <td>114</td>\n",
       "    </tr>\n",
       "    <tr>\n",
       "      <th>6994</th>\n",
       "      <td>3.6</td>\n",
       "      <td>7.8</td>\n",
       "      <td>30</td>\n",
       "      <td>15.5</td>\n",
       "      <td>188</td>\n",
       "    </tr>\n",
       "    <tr>\n",
       "      <th>6995</th>\n",
       "      <td>3.6</td>\n",
       "      <td>8.2</td>\n",
       "      <td>27</td>\n",
       "      <td>24.9</td>\n",
       "      <td>155</td>\n",
       "    </tr>\n",
       "    <tr>\n",
       "      <th>6996</th>\n",
       "      <td>3.7</td>\n",
       "      <td>8.7</td>\n",
       "      <td>30</td>\n",
       "      <td>15.8</td>\n",
       "      <td>115</td>\n",
       "    </tr>\n",
       "  </tbody>\n",
       "</table>\n",
       "<p>6997 rows × 5 columns</p>\n",
       "</div>"
      ],
      "text/plain": [
       "      DO(ppm)    pH  Temperature(*C)  Salinity(ppt)  TDS\n",
       "0         3.7   7.3               29           22.9  232\n",
       "1         5.4  10.5               30           20.3   65\n",
       "2         3.6   7.5               26           19.7  263\n",
       "3         5.8  10.0               30           12.8   81\n",
       "4         3.6   7.1               31           12.3   57\n",
       "...       ...   ...              ...            ...  ...\n",
       "6992      3.7   8.1               26           23.6  190\n",
       "6993      3.5   7.4               31           12.1  114\n",
       "6994      3.6   7.8               30           15.5  188\n",
       "6995      3.6   8.2               27           24.9  155\n",
       "6996      3.7   8.7               30           15.8  115\n",
       "\n",
       "[6997 rows x 5 columns]"
      ]
     },
     "execution_count": 4,
     "metadata": {},
     "output_type": "execute_result"
    }
   ],
   "source": [
    "X=data\n",
    "del data[data.columns[-1]]\n",
    "X"
   ]
  },
  {
   "cell_type": "code",
   "execution_count": 5,
   "id": "17461b4a-ba7a-4205-a682-b9404899753e",
   "metadata": {},
   "outputs": [
    {
     "data": {
      "text/plain": [
       "array([0, 0, 0, ..., 1, 1, 1], dtype=int64)"
      ]
     },
     "execution_count": 5,
     "metadata": {},
     "output_type": "execute_result"
    }
   ],
   "source": [
    "from sklearn.model_selection import train_test_split\n",
    "X_train,X_test,Y_train,Y_test=train_test_split(X,Y,test_size=0.3,random_state=7)\n",
    "Y"
   ]
  },
  {
   "cell_type": "code",
   "execution_count": 6,
   "id": "9d9adac9-6ac0-4d3b-9840-0064e83d81c7",
   "metadata": {},
   "outputs": [
    {
     "name": "stdout",
     "output_type": "stream",
     "text": [
      "[1 1 0 ... 0 0 1]\n",
      "87.57142857142857\n"
     ]
    },
    {
     "data": {
      "text/plain": [
       "[<matplotlib.lines.Line2D at 0x13027fe2380>]"
      ]
     },
     "execution_count": 6,
     "metadata": {},
     "output_type": "execute_result"
    },
    {
     "data": {
      "image/png": "[encoded data removed]",
      "text/plain": [
       "<Figure size 640x480 with 1 Axes>"
      ]
     },
     "metadata": {},
     "output_type": "display_data"
    }
   ],
   "source": [
    "#RandomForest\n",
    "from sklearn.ensemble import RandomForestClassifier\n",
    "from sklearn.metrics import accuracy_score\n",
    "model=RandomForestClassifier(n_estimators=100)\n",
    "model.fit(X_train,Y_train)\n",
    "Y_pred= model.predict(X_test)\n",
    "print(Y_pred)\n",
    "RandFor_acc=accuracy_score(Y_test,Y_pred)*100\n",
    "print(RandFor_acc)\n",
    "y_pred_proba = model.predict_proba(X_test)[:,1]\n",
    "y_pred_proba[3]\n",
    "from sklearn import metrics\n",
    "fpr, tpr, _ = metrics.roc_curve(Y_test,  y_pred_proba)\n",
    "auc = round(metrics.roc_auc_score(Y_test, y_pred_proba),2)\n",
    "plt.plot(fpr,tpr,label=\"RandomForest, auc=\"+str(auc))\n"
   ]
  },
  {
   "cell_type": "code",
   "execution_count": 7,
   "id": "a0122baa-4590-4e5d-9e05-2bc7e0cdbf05",
   "metadata": {},
   "outputs": [
    {
     "name": "stdout",
     "output_type": "stream",
     "text": [
      "[1 1 0 ... 0 0 1]\n",
      "87.09523809523809\n"
     ]
    },
    {
     "data": {
      "text/plain": [
       "[<matplotlib.lines.Line2D at 0x1302a2290c0>]"
      ]
     },
     "execution_count": 7,
     "metadata": {},
     "output_type": "execute_result"
    },
    {
     "data": {
      "image/png": "[encoded data removed]",
      "text/plain": [
       "<Figure size 640x480 with 1 Axes>"
      ]
     },
     "metadata": {},
     "output_type": "display_data"
    }
   ],
   "source": [
    "#decision tree\n",
    "from sklearn.tree import DecisionTreeClassifier\n",
    "model=DecisionTreeClassifier()\n",
    "model.fit(X_train,Y_train)\n",
    "Y_pred= model.predict(X_test)\n",
    "print(Y_pred)\n",
    "DeciTr_acc=accuracy_score(Y_test,Y_pred)*100\n",
    "print(DeciTr_acc)\n",
    "\n",
    "\n",
    "y_pred_proba = model.predict_proba(X_test)[:,1]\n",
    "y_pred_proba[3]\n",
    "from sklearn import metrics\n",
    "fpr, tpr, _ = metrics.roc_curve(Y_test,  y_pred_proba)\n",
    "auc = round(metrics.roc_auc_score(Y_test, y_pred_proba),2)\n",
    "plt.plot(fpr,tpr,label=\"DecisionTree, auc=\"+str(auc))\n",
    "\n"
   ]
  },
  {
   "cell_type": "code",
   "execution_count": 8,
   "id": "d009da9f-5806-4669-a478-2d0de664cd9e",
   "metadata": {},
   "outputs": [
    {
     "name": "stdout",
     "output_type": "stream",
     "text": [
      "[1 1 0 ... 0 1 1]\n",
      "75.90476190476191\n"
     ]
    },
    {
     "data": {
      "text/plain": [
       "[<matplotlib.lines.Line2D at 0x1302a2aecb0>]"
      ]
     },
     "execution_count": 8,
     "metadata": {},
     "output_type": "execute_result"
    },
    {
     "data": {
      "image/png": "[encoded data removed]",
      "text/plain": [
       "<Figure size 640x480 with 1 Axes>"
      ]
     },
     "metadata": {},
     "output_type": "display_data"
    }
   ],
   "source": [
    "#GaussianNB\n",
    "from sklearn.naive_bayes import GaussianNB\n",
    "model= GaussianNB()\n",
    "model.fit(X_train,Y_train)\n",
    "# print(X_test[1])\n",
    "# print(X_test)\n",
    "# print(X_test[0].reshape(1,-1))\n",
    "\n",
    "Y_pred= model.predict(X_test)\n",
    "print(Y_pred)\n",
    "NB_acc=accuracy_score(Y_test,Y_pred)*100\n",
    "print(NB_acc)\n",
    "\n",
    "y_pred_proba = model.predict_proba(X_test)[:,1]\n",
    "y_pred_proba[3]\n",
    "from sklearn import metrics\n",
    "fpr, tpr, _ = metrics.roc_curve(Y_test,  y_pred_proba)\n",
    "auc = round(metrics.roc_auc_score(Y_test, y_pred_proba),2)\n",
    "plt.plot(fpr,tpr,label=\"GaussianNB, auc=\"+str(auc))\n",
    "\n"
   ]
  },
  {
   "cell_type": "code",
   "execution_count": 9,
   "id": "3e42f01d-1bfb-4af5-a82c-6c2d9ef524a3",
   "metadata": {},
   "outputs": [
    {
     "name": "stdout",
     "output_type": "stream",
     "text": [
      "(4897, 5)\n",
      "[1 1 1 ... 1 1 1]\n",
      "66.85714285714286\n"
     ]
    },
    {
     "data": {
      "text/plain": [
       "[<matplotlib.lines.Line2D at 0x1302a30fc10>]"
      ]
     },
     "execution_count": 9,
     "metadata": {},
     "output_type": "execute_result"
    },
    {
     "data": {
      "image/png": "[encoded data removed]",
      "text/plain": [
       "<Figure size 640x480 with 1 Axes>"
      ]
     },
     "metadata": {},
     "output_type": "display_data"
    }
   ],
   "source": [
    "from sklearn.linear_model import LogisticRegression\n",
    "from sklearn.metrics import accuracy_score\n",
    "model=LogisticRegression()\n",
    "model.fit(X_train,Y_train)\n",
    "print(X_train.shape)\n",
    "Y_pred=model.predict(X_test)\n",
    "print(Y_pred)\n",
    "Logi_acc=accuracy_score(Y_test,Y_pred)*100\n",
    "print(Logi_acc)\n",
    "\n",
    "y_pred_proba = model.predict_proba(X_test)[:,1]\n",
    "y_pred_proba[3]\n",
    "from sklearn import metrics\n",
    "fpr, tpr, _ = metrics.roc_curve(Y_test,  y_pred_proba)\n",
    "auc = round(metrics.roc_auc_score(Y_test, y_pred_proba),2)\n",
    "plt.plot(fpr,tpr,label=\"LogisticRegression, auc=\"+str(auc))\n",
    "\n",
    "\n"
   ]
  },
  {
   "cell_type": "code",
   "execution_count": 10,
   "id": "beab1663-63dd-41cc-90a2-45d1994da084",
   "metadata": {},
   "outputs": [
    {
     "name": "stdout",
     "output_type": "stream",
     "text": [
      "89.57142857142857\n"
     ]
    },
    {
     "data": {
      "text/plain": [
       "[<matplotlib.lines.Line2D at 0x1302a3999c0>]"
      ]
     },
     "execution_count": 10,
     "metadata": {},
     "output_type": "execute_result"
    },
    {
     "data": {
      "image/png": "[encoded data removed]",
      "text/plain": [
       "<Figure size 640x480 with 1 Axes>"
      ]
     },
     "metadata": {},
     "output_type": "display_data"
    }
   ],
   "source": [
    "from sklearn.ensemble import AdaBoostClassifier\n",
    "from sklearn.metrics import accuracy_score\n",
    "# from sklearn.metrics import plot_confusion_matrix\n",
    "model = AdaBoostClassifier(n_estimators=99,learning_rate=1)\n",
    "model.fit(X_train,Y_train)\n",
    "Y_pred=model.predict(X_test)\n",
    "ada_acc=accuracy_score(Y_test,Y_pred)*100\n",
    "print(ada_acc)\n",
    "# plot_confusion_matrix(model, X_test, Y_test) \n",
    "\n",
    "y_pred_proba = model.predict_proba(X_test)[:,1]\n",
    "y_pred_proba[3]\n",
    "from sklearn import metrics\n",
    "fpr, tpr, _ = metrics.roc_curve(Y_test,  y_pred_proba)\n",
    "auc = round(metrics.roc_auc_score(Y_test, y_pred_proba),2)\n",
    "plt.plot(fpr,tpr,label=\"AdaBoost, auc=\"+str(auc))\n",
    "\n",
    "\n"
   ]
  },
  {
   "cell_type": "code",
   "execution_count": 11,
   "id": "7399f890-a0c8-4804-a665-10fd3368725b",
   "metadata": {},
   "outputs": [
    {
     "name": "stdout",
     "output_type": "stream",
     "text": [
      "[1 1 0 ... 0 0 1]\n",
      "84.52380952380952\n"
     ]
    },
    {
     "data": {
      "image/png": "[encoded data removed]",
      "text/plain": [
       "<Figure size 640x480 with 1 Axes>"
      ]
     },
     "metadata": {},
     "output_type": "display_data"
    }
   ],
   "source": [
    "\n",
    "#KNN\n",
    "from sklearn.neighbors import KNeighborsClassifier\n",
    "model=KNeighborsClassifier(n_neighbors=3)\n",
    "model.fit(X_train,Y_train)\n",
    "Y_pred=model.predict(X_test)\n",
    "print(Y_pred)\n",
    "KNN_acc=accuracy_score(Y_test,Y_pred)*100\n",
    "print(KNN_acc)\n",
    "\n",
    "\n",
    "y_pred_proba = model.predict_proba(X_test)[:,1]\n",
    "y_pred_proba[3]\n",
    "from sklearn import metrics\n",
    "fpr, tpr, _ = metrics.roc_curve(Y_test,  y_pred_proba)\n",
    "auc = round(metrics.roc_auc_score(Y_test, y_pred_proba),2)\n",
    "plt.plot(fpr,tpr,label=\"KNeighbors, auc=\"+str(auc))\n",
    "plt.legend(loc=4)\n",
    "plt.show()\n",
    "\n"
   ]
  },
  {
   "cell_type": "code",
   "execution_count": 12,
   "id": "e9ef4fc5-4196-45ed-a4b6-4a51ee05631f",
   "metadata": {},
   "outputs": [
    {
     "name": "stdout",
     "output_type": "stream",
     "text": [
      "[1 1 0 ... 0 0 1]\n",
      "[1 1 0 ... 0 0 1]\n",
      "[1 1 0 ... 0 1 1]\n",
      "(4897, 5)\n",
      "[1 1 1 ... 1 1 1]\n",
      "66.85714285714286\n",
      "89.57142857142857\n",
      "[1 1 0 ... 0 0 1]\n"
     ]
    },
    {
     "data": {
      "image/png": "[encoded data removed]",
      "text/plain": [
       "<Figure size 640x480 with 1 Axes>"
      ]
     },
     "metadata": {},
     "output_type": "display_data"
    }
   ],
   "source": [
    "#RandomForest\n",
    "from sklearn.ensemble import RandomForestClassifier\n",
    "model=RandomForestClassifier(n_estimators=100)\n",
    "model.fit(X_train,Y_train)\n",
    "Y_pred= model.predict(X_test)\n",
    "print(Y_pred)\n",
    "RandFor_acc=accuracy_score(Y_test,Y_pred)*100\n",
    "RandFor_acc\n",
    "\n",
    "y_pred_proba = model.predict_proba(X_test)[:,1]\n",
    "y_pred_proba[3]\n",
    "from sklearn import metrics\n",
    "fpr, tpr, _ = metrics.roc_curve(Y_test,  y_pred_proba)\n",
    "auc = round(metrics.roc_auc_score(Y_test, y_pred_proba),2)\n",
    "plt.plot(fpr,tpr,label=\"RandomForest, auc=\"+str(auc))\n",
    "\n",
    "\n",
    "#decision tree\n",
    "from sklearn.tree import DecisionTreeClassifier\n",
    "model=DecisionTreeClassifier()\n",
    "model.fit(X_train,Y_train)\n",
    "Y_pred= model.predict(X_test)\n",
    "print(Y_pred)\n",
    "DeciTr_acc=accuracy_score(Y_test,Y_pred)*100\n",
    "DeciTr_acc\n",
    "\n",
    "\n",
    "y_pred_proba = model.predict_proba(X_test)[:,1]\n",
    "y_pred_proba[3]\n",
    "from sklearn import metrics\n",
    "fpr, tpr, _ = metrics.roc_curve(Y_test,  y_pred_proba)\n",
    "auc = round(metrics.roc_auc_score(Y_test, y_pred_proba),2)\n",
    "plt.plot(fpr,tpr,label=\"DecisionTree, auc=\"+str(auc))\n",
    "\n",
    "\n",
    "\n",
    "#Naive bayes\n",
    "from sklearn.naive_bayes import GaussianNB\n",
    "model= GaussianNB()\n",
    "model.fit(X_train,Y_train)\n",
    "# print(X_test[1])\n",
    "# print(X_test)\n",
    "# print(X_test[0].reshape(1,-1))\n",
    "\n",
    "Y_pred= model.predict(X_test)\n",
    "print(Y_pred)\n",
    "NB_acc=accuracy_score(Y_test,Y_pred)*100\n",
    "NB_acc\n",
    "\n",
    "y_pred_proba = model.predict_proba(X_test)[:,1]\n",
    "y_pred_proba[3]\n",
    "from sklearn import metrics\n",
    "fpr, tpr, _ = metrics.roc_curve(Y_test,  y_pred_proba)\n",
    "auc = round(metrics.roc_auc_score(Y_test, y_pred_proba),2)\n",
    "plt.plot(fpr,tpr,label=\"GaussianNB, auc=\"+str(auc))\n",
    "\n",
    "\n",
    "\n",
    "\n",
    "from sklearn.linear_model import LogisticRegression\n",
    "from sklearn.metrics import accuracy_score\n",
    "model=LogisticRegression()\n",
    "model.fit(X_train,Y_train)\n",
    "print(X_train.shape)\n",
    "Y_pred=model.predict(X_test)\n",
    "print(Y_pred)\n",
    "Logi_acc=accuracy_score(Y_test,Y_pred)*100\n",
    "print(Logi_acc)\n",
    "\n",
    "y_pred_proba = model.predict_proba(X_test)[:,1]\n",
    "y_pred_proba[3]\n",
    "from sklearn import metrics\n",
    "fpr, tpr, _ = metrics.roc_curve(Y_test,  y_pred_proba)\n",
    "auc = round(metrics.roc_auc_score(Y_test, y_pred_proba),2)\n",
    "plt.plot(fpr,tpr,label=\"LogisticRegression, auc=\"+str(auc))\n",
    "\n",
    "\n",
    "\n",
    "\n",
    "from sklearn.ensemble import AdaBoostClassifier\n",
    "from sklearn.metrics import accuracy_score\n",
    "# from sklearn.metrics import plot_confusion_matrix\n",
    "model = AdaBoostClassifier(n_estimators=99,learning_rate=1)\n",
    "model.fit(X_train,Y_train)\n",
    "Y_pred=model.predict(X_test)\n",
    "ada_acc=accuracy_score(Y_test,Y_pred)*100\n",
    "print(ada_acc)\n",
    "# plot_confusion_matrix(model, X_test, Y_test) \n",
    "\n",
    "y_pred_proba = model.predict_proba(X_test)[:,1]\n",
    "y_pred_proba[3]\n",
    "from sklearn import metrics\n",
    "fpr, tpr, _ = metrics.roc_curve(Y_test,  y_pred_proba)\n",
    "auc = round(metrics.roc_auc_score(Y_test, y_pred_proba),2)\n",
    "plt.plot(fpr,tpr,label=\"AdaBoost, auc=\"+str(auc))\n",
    "\n",
    "\n",
    "\n",
    "\n",
    "#KNN\n",
    "from sklearn.neighbors import KNeighborsClassifier\n",
    "model=KNeighborsClassifier(n_neighbors=3)\n",
    "model.fit(X_train,Y_train)\n",
    "Y_pred=model.predict(X_test)\n",
    "print(Y_pred)\n",
    "KNN_acc=accuracy_score(Y_test,Y_pred)*100\n",
    "KNN_acc\n",
    "\n",
    "\n",
    "y_pred_proba = model.predict_proba(X_test)[:,1]\n",
    "y_pred_proba[3]\n",
    "from sklearn import metrics\n",
    "fpr, tpr, _ = metrics.roc_curve(Y_test,  y_pred_proba)\n",
    "auc = round(metrics.roc_auc_score(Y_test, y_pred_proba),2)\n",
    "plt.plot(fpr,tpr,label=\"KNeighbors, auc=\"+str(auc))\n",
    "plt.legend(loc=4)\n",
    "plt.show()\n"
   ]
  },
  {
   "cell_type": "code",
   "execution_count": 20,
   "id": "25107198-b561-4279-8c47-2a581ec80179",
   "metadata": {},
   "outputs": [
    {
     "data": {
      "text/html": [
       "<div>\n",
       "<style scoped>\n",
       "    .dataframe tbody tr th:only-of-type {\n",
       "        vertical-align: middle;\n",
       "    }\n",
       "\n",
       "    .dataframe tbody tr th {\n",
       "        vertical-align: top;\n",
       "    }\n",
       "\n",
       "    .dataframe thead th {\n",
       "        text-align: right;\n",
       "    }\n",
       "</style>\n",
       "<table border=\"1\" class=\"dataframe\">\n",
       "  <thead>\n",
       "    <tr style=\"text-align: right;\">\n",
       "      <th></th>\n",
       "      <th>Models</th>\n",
       "      <th>Accuracy score</th>\n",
       "    </tr>\n",
       "  </thead>\n",
       "  <tbody>\n",
       "    <tr>\n",
       "      <th>5</th>\n",
       "      <td>AdaBoostClassifier</td>\n",
       "      <td>89.571429</td>\n",
       "    </tr>\n",
       "    <tr>\n",
       "      <th>3</th>\n",
       "      <td>Random-Forest Classifier</td>\n",
       "      <td>87.714286</td>\n",
       "    </tr>\n",
       "    <tr>\n",
       "      <th>4</th>\n",
       "      <td>DecisionTreeClassifier</td>\n",
       "      <td>86.571429</td>\n",
       "    </tr>\n",
       "    <tr>\n",
       "      <th>1</th>\n",
       "      <td>KNeighbor Classifier</td>\n",
       "      <td>84.523810</td>\n",
       "    </tr>\n",
       "    <tr>\n",
       "      <th>2</th>\n",
       "      <td>GaussianNB</td>\n",
       "      <td>75.904762</td>\n",
       "    </tr>\n",
       "    <tr>\n",
       "      <th>0</th>\n",
       "      <td>Logistic Regression</td>\n",
       "      <td>66.857143</td>\n",
       "    </tr>\n",
       "  </tbody>\n",
       "</table>\n",
       "</div>"
      ],
      "text/plain": [
       "                     Models  Accuracy score\n",
       "5        AdaBoostClassifier       89.571429\n",
       "3  Random-Forest Classifier       87.714286\n",
       "4    DecisionTreeClassifier       86.571429\n",
       "1      KNeighbor Classifier       84.523810\n",
       "2                GaussianNB       75.904762\n",
       "0       Logistic Regression       66.857143"
      ]
     },
     "execution_count": 20,
     "metadata": {},
     "output_type": "execute_result"
    }
   ],
   "source": [
    "# all models with accuracy score\n",
    "\n",
    "models=pd.DataFrame({'Models':['Logistic Regression','KNeighbor Classifier','GaussianNB','Random-Forest Classifier','DecisionTreeClassifier','AdaBoostClassifier'],\n",
    "                     'Accuracy score':[Logi_acc,KNN_acc,NB_acc,RandFor_acc,DeciTr_acc,ada_acc]})\n",
    "models.sort_values(by=\"Accuracy score\",ascending=False)"
   ]
  },
  {
   "cell_type": "code",
   "execution_count": 27,
   "id": "457706bb-eb3e-4e63-9dbc-ecf81d881234",
   "metadata": {},
   "outputs": [
    {
     "name": "stdout",
     "output_type": "stream",
     "text": [
      "89.57142857142857\n"
     ]
    },
    {
     "data": {
      "text/plain": [
       "[<matplotlib.lines.Line2D at 0x1302a5146d0>]"
      ]
     },
     "execution_count": 27,
     "metadata": {},
     "output_type": "execute_result"
    },
    {
     "data": {
      "image/png": "[encoded data removed]",
      "text/plain": [
       "<Figure size 640x480 with 1 Axes>"
      ]
     },
     "metadata": {},
     "output_type": "display_data"
    }
   ],
   "source": [
    "\n",
    "from sklearn.ensemble import AdaBoostClassifier\n",
    "from sklearn.metrics import accuracy_score\n",
    "# from sklearn.metrics import plot_confusion_matrix\n",
    "model = AdaBoostClassifier(n_estimators=99,learning_rate=1)\n",
    "model.fit(X_train,Y_train)\n",
    "Y_pred=model.predict(X_test)\n",
    "ada_acc=accuracy_score(Y_test,Y_pred)*100\n",
    "print(ada_acc)\n",
    "# plot_confusion_matrix(model, X_test, Y_test) \n",
    "\n",
    "y_pred_proba = model.predict_proba(X_test)[:,1]\n",
    "y_pred_proba[3]\n",
    "from sklearn import metrics\n",
    "fpr, tpr, _ = metrics.roc_curve(Y_test,  y_pred_proba)\n",
    "auc = round(metrics.roc_auc_score(Y_test, y_pred_proba),2)\n",
    "plt.plot(fpr,tpr,label=\"AdaBoost, auc=\"+str(auc))\n",
    "\n"
   ]
  },
  {
   "cell_type": "code",
   "execution_count": 28,
   "id": "704735a0-79c1-4506-a41d-c1b68a6a35ba",
   "metadata": {},
   "outputs": [],
   "source": [
    "from joblib import dump"
   ]
  },
  {
   "cell_type": "code",
   "execution_count": 29,
   "id": "c3383a85-b3d7-4bac-bec7-c841bfc58a33",
   "metadata": {},
   "outputs": [
    {
     "data": {
      "text/plain": [
       "['./savedmodels/model.joblib']"
      ]
     },
     "execution_count": 29,
     "metadata": {},
     "output_type": "execute_result"
    }
   ],
   "source": [
    "dump(model, './savedmodels/model.joblib')"
   ]
  },
  {
   "cell_type": "code",
   "execution_count": 23,
   "id": "5ef820d9-feff-4663-b166-abc7915b57cb",
   "metadata": {},
   "outputs": [
    {
     "name": "stdout",
     "output_type": "stream",
     "text": [
      "Health is not good!!!\n"
     ]
    },
    {
     "name": "stderr",
     "output_type": "stream",
     "text": [
      "C:\\Python310\\lib\\site-packages\\sklearn\\base.py:450: UserWarning: X does not have valid feature names, but RandomForestClassifier was fitted with feature names\n",
      "  warnings.warn(\n"
     ]
    }
   ],
   "source": [
    "# Custom Input 1\n",
    "features = np.array([[3.8,7.5,29,20,201]])\n",
    "Y_pred=model.predict(features)\n",
    "if(Y_pred == 1):\n",
    "    print(\"Health is Good!!\")\n",
    "else:\n",
    "    print(\"Health is not good!!!\")\n"
   ]
  },
  {
   "cell_type": "code",
   "execution_count": null,
   "id": "d5c64ecd-f533-44e9-a7aa-e97a9d455710",
   "metadata": {},
   "outputs": [],
   "source": []
  }
 ],
 "metadata": {
  "kernelspec": {
   "display_name": "Python 3 (ipykernel)",
   "language": "python",
   "name": "python3"
  },
  "language_info": {
   "codemirror_mode": {
    "name": "ipython",
    "version": 3
   },
   "file_extension": ".py",
   "mimetype": "text/x-python",
   "name": "python",
   "nbconvert_exporter": "python",
   "pygments_lexer": "ipython3",
   "version": "3.10.6"
  }
 },
 "nbformat": 4,
 "nbformat_minor": 5
}
