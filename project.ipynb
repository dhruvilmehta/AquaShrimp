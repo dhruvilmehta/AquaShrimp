{
 "cells": [
  {
   "cell_type": "code",
   "execution_count": 1,
   "id": "126d5076-d66a-4a7d-b9aa-6f864207b321",
   "metadata": {},
   "outputs": [],
   "source": [
    "import pandas as pd\n",
    "import numpy as np \n",
    "import seaborn as sns\n",
    "import matplotlib.pyplot as plt \n",
    "%matplotlib inline\n",
    "from sklearn.model_selection import train_test_split "
   ]
  },
  {
   "cell_type": "code",
   "execution_count": 2,
   "id": "f199ec30-3cec-4b77-ac0f-5e82ae3523fd",
   "metadata": {},
   "outputs": [
    {
     "data": {
      "text/html": [
       "<div>\n",
       "<style scoped>\n",
       "    .dataframe tbody tr th:only-of-type {\n",
       "        vertical-align: middle;\n",
       "    }\n",
       "\n",
       "    .dataframe tbody tr th {\n",
       "        vertical-align: top;\n",
       "    }\n",
       "\n",
       "    .dataframe thead th {\n",
       "        text-align: right;\n",
       "    }\n",
       "</style>\n",
       "<table border=\"1\" class=\"dataframe\">\n",
       "  <thead>\n",
       "    <tr style=\"text-align: right;\">\n",
       "      <th></th>\n",
       "      <th>DO(ppm)</th>\n",
       "      <th>pH</th>\n",
       "      <th>Temperature(*C)</th>\n",
       "      <th>Salinity(ppt)</th>\n",
       "      <th>TDS</th>\n",
       "      <th>Health</th>\n",
       "    </tr>\n",
       "  </thead>\n",
       "  <tbody>\n",
       "    <tr>\n",
       "      <th>0</th>\n",
       "      <td>3.7</td>\n",
       "      <td>8.5</td>\n",
       "      <td>30</td>\n",
       "      <td>21.8</td>\n",
       "      <td>61</td>\n",
       "      <td>0</td>\n",
       "    </tr>\n",
       "    <tr>\n",
       "      <th>1</th>\n",
       "      <td>6.0</td>\n",
       "      <td>11.4</td>\n",
       "      <td>30</td>\n",
       "      <td>13.2</td>\n",
       "      <td>281</td>\n",
       "      <td>0</td>\n",
       "    </tr>\n",
       "    <tr>\n",
       "      <th>2</th>\n",
       "      <td>4.0</td>\n",
       "      <td>8.7</td>\n",
       "      <td>31</td>\n",
       "      <td>17.4</td>\n",
       "      <td>96</td>\n",
       "      <td>0</td>\n",
       "    </tr>\n",
       "    <tr>\n",
       "      <th>3</th>\n",
       "      <td>5.0</td>\n",
       "      <td>11.9</td>\n",
       "      <td>26</td>\n",
       "      <td>13.0</td>\n",
       "      <td>202</td>\n",
       "      <td>0</td>\n",
       "    </tr>\n",
       "    <tr>\n",
       "      <th>4</th>\n",
       "      <td>3.5</td>\n",
       "      <td>7.2</td>\n",
       "      <td>31</td>\n",
       "      <td>10.8</td>\n",
       "      <td>74</td>\n",
       "      <td>0</td>\n",
       "    </tr>\n",
       "  </tbody>\n",
       "</table>\n",
       "</div>"
      ],
      "text/plain": [
       "   DO(ppm)    pH  Temperature(*C)  Salinity(ppt)  TDS  Health\n",
       "0      3.7   8.5               30           21.8   61       0\n",
       "1      6.0  11.4               30           13.2  281       0\n",
       "2      4.0   8.7               31           17.4   96       0\n",
       "3      5.0  11.9               26           13.0  202       0\n",
       "4      3.5   7.2               31           10.8   74       0"
      ]
     },
     "execution_count": 2,
     "metadata": {},
     "output_type": "execute_result"
    }
   ],
   "source": [
    "data = pd.read_csv('./Aqua.csv')\n",
    "data.head()"
   ]
  },
  {
   "cell_type": "code",
   "execution_count": 3,
   "id": "23862899-5a4b-4174-8e61-70bb984e4d52",
   "metadata": {},
   "outputs": [
    {
     "name": "stdout",
     "output_type": "stream",
     "text": [
      "[0 0 0 ... 1 1 1]\n"
     ]
    }
   ],
   "source": [
    "Y=data.iloc[:,5].values\n",
    "print(Y)"
   ]
  },
  {
   "cell_type": "code",
   "execution_count": 4,
   "id": "3fb530d2-a5f6-4ab9-989c-0cf13d45bbb5",
   "metadata": {},
   "outputs": [
    {
     "data": {
      "text/html": [
       "<div>\n",
       "<style scoped>\n",
       "    .dataframe tbody tr th:only-of-type {\n",
       "        vertical-align: middle;\n",
       "    }\n",
       "\n",
       "    .dataframe tbody tr th {\n",
       "        vertical-align: top;\n",
       "    }\n",
       "\n",
       "    .dataframe thead th {\n",
       "        text-align: right;\n",
       "    }\n",
       "</style>\n",
       "<table border=\"1\" class=\"dataframe\">\n",
       "  <thead>\n",
       "    <tr style=\"text-align: right;\">\n",
       "      <th></th>\n",
       "      <th>DO(ppm)</th>\n",
       "      <th>pH</th>\n",
       "      <th>Temperature(*C)</th>\n",
       "      <th>Salinity(ppt)</th>\n",
       "      <th>TDS</th>\n",
       "    </tr>\n",
       "  </thead>\n",
       "  <tbody>\n",
       "    <tr>\n",
       "      <th>0</th>\n",
       "      <td>3.7</td>\n",
       "      <td>8.5</td>\n",
       "      <td>30</td>\n",
       "      <td>21.8</td>\n",
       "      <td>61</td>\n",
       "    </tr>\n",
       "    <tr>\n",
       "      <th>1</th>\n",
       "      <td>6.0</td>\n",
       "      <td>11.4</td>\n",
       "      <td>30</td>\n",
       "      <td>13.2</td>\n",
       "      <td>281</td>\n",
       "    </tr>\n",
       "    <tr>\n",
       "      <th>2</th>\n",
       "      <td>4.0</td>\n",
       "      <td>8.7</td>\n",
       "      <td>31</td>\n",
       "      <td>17.4</td>\n",
       "      <td>96</td>\n",
       "    </tr>\n",
       "    <tr>\n",
       "      <th>3</th>\n",
       "      <td>5.0</td>\n",
       "      <td>11.9</td>\n",
       "      <td>26</td>\n",
       "      <td>13.0</td>\n",
       "      <td>202</td>\n",
       "    </tr>\n",
       "    <tr>\n",
       "      <th>4</th>\n",
       "      <td>3.5</td>\n",
       "      <td>7.2</td>\n",
       "      <td>31</td>\n",
       "      <td>10.8</td>\n",
       "      <td>74</td>\n",
       "    </tr>\n",
       "    <tr>\n",
       "      <th>...</th>\n",
       "      <td>...</td>\n",
       "      <td>...</td>\n",
       "      <td>...</td>\n",
       "      <td>...</td>\n",
       "      <td>...</td>\n",
       "    </tr>\n",
       "    <tr>\n",
       "      <th>6992</th>\n",
       "      <td>3.8</td>\n",
       "      <td>7.6</td>\n",
       "      <td>30</td>\n",
       "      <td>21.1</td>\n",
       "      <td>112</td>\n",
       "    </tr>\n",
       "    <tr>\n",
       "      <th>6993</th>\n",
       "      <td>3.9</td>\n",
       "      <td>8.3</td>\n",
       "      <td>29</td>\n",
       "      <td>18.3</td>\n",
       "      <td>117</td>\n",
       "    </tr>\n",
       "    <tr>\n",
       "      <th>6994</th>\n",
       "      <td>4.0</td>\n",
       "      <td>6.9</td>\n",
       "      <td>28</td>\n",
       "      <td>11.7</td>\n",
       "      <td>111</td>\n",
       "    </tr>\n",
       "    <tr>\n",
       "      <th>6995</th>\n",
       "      <td>3.5</td>\n",
       "      <td>7.3</td>\n",
       "      <td>26</td>\n",
       "      <td>25.0</td>\n",
       "      <td>180</td>\n",
       "    </tr>\n",
       "    <tr>\n",
       "      <th>6996</th>\n",
       "      <td>3.5</td>\n",
       "      <td>7.3</td>\n",
       "      <td>26</td>\n",
       "      <td>21.4</td>\n",
       "      <td>184</td>\n",
       "    </tr>\n",
       "  </tbody>\n",
       "</table>\n",
       "<p>6997 rows × 5 columns</p>\n",
       "</div>"
      ],
      "text/plain": [
       "      DO(ppm)    pH  Temperature(*C)  Salinity(ppt)  TDS\n",
       "0         3.7   8.5               30           21.8   61\n",
       "1         6.0  11.4               30           13.2  281\n",
       "2         4.0   8.7               31           17.4   96\n",
       "3         5.0  11.9               26           13.0  202\n",
       "4         3.5   7.2               31           10.8   74\n",
       "...       ...   ...              ...            ...  ...\n",
       "6992      3.8   7.6               30           21.1  112\n",
       "6993      3.9   8.3               29           18.3  117\n",
       "6994      4.0   6.9               28           11.7  111\n",
       "6995      3.5   7.3               26           25.0  180\n",
       "6996      3.5   7.3               26           21.4  184\n",
       "\n",
       "[6997 rows x 5 columns]"
      ]
     },
     "execution_count": 4,
     "metadata": {},
     "output_type": "execute_result"
    }
   ],
   "source": [
    "X=data\n",
    "del data[data.columns[-1]]\n",
    "X"
   ]
  },
  {
   "cell_type": "code",
   "execution_count": 5,
   "id": "17461b4a-ba7a-4205-a682-b9404899753e",
   "metadata": {},
   "outputs": [
    {
     "data": {
      "text/plain": [
       "array([0, 0, 0, ..., 1, 1, 1], dtype=int64)"
      ]
     },
     "execution_count": 5,
     "metadata": {},
     "output_type": "execute_result"
    }
   ],
   "source": [
    "from sklearn.model_selection import train_test_split\n",
    "X_train,X_test,Y_train,Y_test=train_test_split(X,Y,test_size=0.3,random_state=7)\n",
    "Y"
   ]
  },
  {
   "cell_type": "code",
   "execution_count": 6,
   "id": "9d9adac9-6ac0-4d3b-9840-0064e83d81c7",
   "metadata": {},
   "outputs": [
    {
     "name": "stdout",
     "output_type": "stream",
     "text": [
      "[1 1 0 ... 0 1 1]\n",
      "93.0\n"
     ]
    },
    {
     "data": {
      "text/plain": [
       "[<matplotlib.lines.Line2D at 0x29dcfafdc00>]"
      ]
     },
     "execution_count": 6,
     "metadata": {},
     "output_type": "execute_result"
    },
    {
     "data": {
      "image/png": "[encoded data removed]",
      "text/plain": [
       "<Figure size 640x480 with 1 Axes>"
      ]
     },
     "metadata": {},
     "output_type": "display_data"
    }
   ],
   "source": [
    "#RandomForest\n",
    "from sklearn.ensemble import RandomForestClassifier\n",
    "from sklearn.metrics import accuracy_score\n",
    "model=RandomForestClassifier(n_estimators=100)\n",
    "model.fit(X_train,Y_train)\n",
    "Y_pred= model.predict(X_test)\n",
    "print(Y_pred)\n",
    "RandFor_acc=accuracy_score(Y_test,Y_pred)*100\n",
    "print(RandFor_acc)\n",
    "y_pred_proba = model.predict_proba(X_test)[:,1]\n",
    "y_pred_proba[3]\n",
    "from sklearn import metrics\n",
    "fpr, tpr, _ = metrics.roc_curve(Y_test,  y_pred_proba)\n",
    "auc = round(metrics.roc_auc_score(Y_test, y_pred_proba),2)\n",
    "plt.plot(fpr,tpr,label=\"RandomForest, auc=\"+str(auc))\n"
   ]
  },
  {
   "cell_type": "code",
   "execution_count": 8,
   "id": "a0122baa-4590-4e5d-9e05-2bc7e0cdbf05",
   "metadata": {},
   "outputs": [
    {
     "name": "stdout",
     "output_type": "stream",
     "text": [
      "[1 1 0 ... 0 1 0]\n",
      "87.0\n"
     ]
    },
    {
     "data": {
      "text/plain": [
       "[<matplotlib.lines.Line2D at 0x29dd1dc50c0>]"
      ]
     },
     "execution_count": 8,
     "metadata": {},
     "output_type": "execute_result"
    },
    {
     "data": {
      "image/png": "[encoded data removed]",
      "text/plain": [
       "<Figure size 640x480 with 1 Axes>"
      ]
     },
     "metadata": {},
     "output_type": "display_data"
    }
   ],
   "source": [
    "#decision tree\n",
    "from sklearn.tree import DecisionTreeClassifier\n",
    "model=DecisionTreeClassifier()\n",
    "model.fit(X_train,Y_train)\n",
    "Y_pred= model.predict(X_test)\n",
    "print(Y_pred)\n",
    "DeciTr_acc=accuracy_score(Y_test,Y_pred)*100\n",
    "print(DeciTr_acc)\n",
    "\n",
    "\n",
    "y_pred_proba = model.predict_proba(X_test)[:,1]\n",
    "y_pred_proba[3]\n",
    "from sklearn import metrics\n",
    "fpr, tpr, _ = metrics.roc_curve(Y_test,  y_pred_proba)\n",
    "auc = round(metrics.roc_auc_score(Y_test, y_pred_proba),2)\n",
    "plt.plot(fpr,tpr,label=\"DecisionTree, auc=\"+str(auc))\n",
    "\n"
   ]
  },
  {
   "cell_type": "code",
   "execution_count": 10,
   "id": "d009da9f-5806-4669-a478-2d0de664cd9e",
   "metadata": {},
   "outputs": [
    {
     "name": "stdout",
     "output_type": "stream",
     "text": [
      "[1 1 0 ... 0 1 1]\n",
      "76.52380952380953\n"
     ]
    },
    {
     "data": {
      "text/plain": [
       "[<matplotlib.lines.Line2D at 0x29dcfc5b580>]"
      ]
     },
     "execution_count": 10,
     "metadata": {},
     "output_type": "execute_result"
    },
    {
     "data": {
      "image/png": "[encoded data removed]",
      "text/plain": [
       "<Figure size 640x480 with 1 Axes>"
      ]
     },
     "metadata": {},
     "output_type": "display_data"
    }
   ],
   "source": [
    "#GaussianNB\n",
    "from sklearn.naive_bayes import GaussianNB\n",
    "model= GaussianNB()\n",
    "model.fit(X_train,Y_train)\n",
    "# print(X_test[1])\n",
    "# print(X_test)\n",
    "# print(X_test[0].reshape(1,-1))\n",
    "\n",
    "Y_pred= model.predict(X_test)\n",
    "print(Y_pred)\n",
    "NB_acc=accuracy_score(Y_test,Y_pred)*100\n",
    "print(NB_acc)\n",
    "\n",
    "y_pred_proba = model.predict_proba(X_test)[:,1]\n",
    "y_pred_proba[3]\n",
    "from sklearn import metrics\n",
    "fpr, tpr, _ = metrics.roc_curve(Y_test,  y_pred_proba)\n",
    "auc = round(metrics.roc_auc_score(Y_test, y_pred_proba),2)\n",
    "plt.plot(fpr,tpr,label=\"GaussianNB, auc=\"+str(auc))\n",
    "\n"
   ]
  },
  {
   "cell_type": "code",
   "execution_count": 11,
   "id": "3e42f01d-1bfb-4af5-a82c-6c2d9ef524a3",
   "metadata": {},
   "outputs": [
    {
     "name": "stdout",
     "output_type": "stream",
     "text": [
      "(4897, 5)\n",
      "[0 0 1 ... 0 1 0]\n",
      "56.095238095238095\n"
     ]
    },
    {
     "data": {
      "text/plain": [
       "[<matplotlib.lines.Line2D at 0x29dd1e34610>]"
      ]
     },
     "execution_count": 11,
     "metadata": {},
     "output_type": "execute_result"
    },
    {
     "data": {
      "image/png": "[encoded data removed]",
      "text/plain": [
       "<Figure size 640x480 with 1 Axes>"
      ]
     },
     "metadata": {},
     "output_type": "display_data"
    }
   ],
   "source": [
    "from sklearn.linear_model import LogisticRegression\n",
    "from sklearn.metrics import accuracy_score\n",
    "model=LogisticRegression()\n",
    "model.fit(X_train,Y_train)\n",
    "print(X_train.shape)\n",
    "Y_pred=model.predict(X_test)\n",
    "print(Y_pred)\n",
    "Logi_acc=accuracy_score(Y_test,Y_pred)*100\n",
    "print(Logi_acc)\n",
    "\n",
    "y_pred_proba = model.predict_proba(X_test)[:,1]\n",
    "y_pred_proba[3]\n",
    "from sklearn import metrics\n",
    "fpr, tpr, _ = metrics.roc_curve(Y_test,  y_pred_proba)\n",
    "auc = round(metrics.roc_auc_score(Y_test, y_pred_proba),2)\n",
    "plt.plot(fpr,tpr,label=\"LogisticRegression, auc=\"+str(auc))\n",
    "\n",
    "\n"
   ]
  },
  {
   "cell_type": "code",
   "execution_count": 12,
   "id": "beab1663-63dd-41cc-90a2-45d1994da084",
   "metadata": {},
   "outputs": [
    {
     "name": "stdout",
     "output_type": "stream",
     "text": [
      "92.95238095238095\n"
     ]
    },
    {
     "data": {
      "text/plain": [
       "[<matplotlib.lines.Line2D at 0x29dd1e9a080>]"
      ]
     },
     "execution_count": 12,
     "metadata": {},
     "output_type": "execute_result"
    },
    {
     "data": {
      "image/png": "[encoded data removed]",
      "text/plain": [
       "<Figure size 640x480 with 1 Axes>"
      ]
     },
     "metadata": {},
     "output_type": "display_data"
    }
   ],
   "source": [
    "from sklearn.ensemble import AdaBoostClassifier\n",
    "from sklearn.metrics import accuracy_score\n",
    "# from sklearn.metrics import plot_confusion_matrix\n",
    "model = AdaBoostClassifier(n_estimators=99,learning_rate=1)\n",
    "model.fit(X_train,Y_train)\n",
    "Y_pred=model.predict(X_test)\n",
    "ada_acc=accuracy_score(Y_test,Y_pred)*100\n",
    "print(ada_acc)\n",
    "# plot_confusion_matrix(model, X_test, Y_test) \n",
    "\n",
    "y_pred_proba = model.predict_proba(X_test)[:,1]\n",
    "y_pred_proba[3]\n",
    "from sklearn import metrics\n",
    "fpr, tpr, _ = metrics.roc_curve(Y_test,  y_pred_proba)\n",
    "auc = round(metrics.roc_auc_score(Y_test, y_pred_proba),2)\n",
    "plt.plot(fpr,tpr,label=\"AdaBoost, auc=\"+str(auc))\n",
    "\n",
    "\n"
   ]
  },
  {
   "cell_type": "code",
   "execution_count": 14,
   "id": "7399f890-a0c8-4804-a665-10fd3368725b",
   "metadata": {},
   "outputs": [
    {
     "name": "stdout",
     "output_type": "stream",
     "text": [
      "[1 1 0 ... 0 1 1]\n",
      "90.71428571428571\n"
     ]
    },
    {
     "data": {
      "image/png": "[encoded data removed]",
      "text/plain": [
       "<Figure size 640x480 with 1 Axes>"
      ]
     },
     "metadata": {},
     "output_type": "display_data"
    }
   ],
   "source": [
    "\n",
    "#KNN\n",
    "from sklearn.neighbors import KNeighborsClassifier\n",
    "model=KNeighborsClassifier(n_neighbors=3)\n",
    "model.fit(X_train,Y_train)\n",
    "Y_pred=model.predict(X_test)\n",
    "print(Y_pred)\n",
    "KNN_acc=accuracy_score(Y_test,Y_pred)*100\n",
    "print(KNN_acc)\n",
    "\n",
    "\n",
    "y_pred_proba = model.predict_proba(X_test)[:,1]\n",
    "y_pred_proba[3]\n",
    "from sklearn import metrics\n",
    "fpr, tpr, _ = metrics.roc_curve(Y_test,  y_pred_proba)\n",
    "auc = round(metrics.roc_auc_score(Y_test, y_pred_proba),2)\n",
    "plt.plot(fpr,tpr,label=\"KNeighbors, auc=\"+str(auc))\n",
    "plt.legend(loc=4)\n",
    "plt.show()\n",
    "\n"
   ]
  },
  {
   "cell_type": "code",
   "execution_count": 15,
   "id": "e9ef4fc5-4196-45ed-a4b6-4a51ee05631f",
   "metadata": {},
   "outputs": [
    {
     "name": "stdout",
     "output_type": "stream",
     "text": [
      "[1 1 0 ... 0 1 1]\n",
      "[1 1 0 ... 0 1 0]\n",
      "[1 1 0 ... 0 1 1]\n",
      "(4897, 5)\n",
      "[0 0 1 ... 0 1 0]\n",
      "56.095238095238095\n",
      "92.95238095238095\n",
      "[1 1 0 ... 0 1 1]\n"
     ]
    },
    {
     "data": {
      "image/png": "[encoded data removed]",
      "text/plain": [
       "<Figure size 640x480 with 1 Axes>"
      ]
     },
     "metadata": {},
     "output_type": "display_data"
    }
   ],
   "source": [
    "#RandomForest\n",
    "from sklearn.ensemble import RandomForestClassifier\n",
    "model=RandomForestClassifier(n_estimators=100)\n",
    "model.fit(X_train,Y_train)\n",
    "Y_pred= model.predict(X_test)\n",
    "print(Y_pred)\n",
    "RandFor_acc=accuracy_score(Y_test,Y_pred)*100\n",
    "RandFor_acc\n",
    "\n",
    "y_pred_proba = model.predict_proba(X_test)[:,1]\n",
    "y_pred_proba[3]\n",
    "from sklearn import metrics\n",
    "fpr, tpr, _ = metrics.roc_curve(Y_test,  y_pred_proba)\n",
    "auc = round(metrics.roc_auc_score(Y_test, y_pred_proba),2)\n",
    "plt.plot(fpr,tpr,label=\"RandomForest, auc=\"+str(auc))\n",
    "\n",
    "\n",
    "#decision tree\n",
    "from sklearn.tree import DecisionTreeClassifier\n",
    "model=DecisionTreeClassifier()\n",
    "model.fit(X_train,Y_train)\n",
    "Y_pred= model.predict(X_test)\n",
    "print(Y_pred)\n",
    "DeciTr_acc=accuracy_score(Y_test,Y_pred)*100\n",
    "DeciTr_acc\n",
    "\n",
    "\n",
    "y_pred_proba = model.predict_proba(X_test)[:,1]\n",
    "y_pred_proba[3]\n",
    "from sklearn import metrics\n",
    "fpr, tpr, _ = metrics.roc_curve(Y_test,  y_pred_proba)\n",
    "auc = round(metrics.roc_auc_score(Y_test, y_pred_proba),2)\n",
    "plt.plot(fpr,tpr,label=\"DecisionTree, auc=\"+str(auc))\n",
    "\n",
    "\n",
    "\n",
    "#Naive bayes\n",
    "from sklearn.naive_bayes import GaussianNB\n",
    "model= GaussianNB()\n",
    "model.fit(X_train,Y_train)\n",
    "# print(X_test[1])\n",
    "# print(X_test)\n",
    "# print(X_test[0].reshape(1,-1))\n",
    "\n",
    "Y_pred= model.predict(X_test)\n",
    "print(Y_pred)\n",
    "NB_acc=accuracy_score(Y_test,Y_pred)*100\n",
    "NB_acc\n",
    "\n",
    "y_pred_proba = model.predict_proba(X_test)[:,1]\n",
    "y_pred_proba[3]\n",
    "from sklearn import metrics\n",
    "fpr, tpr, _ = metrics.roc_curve(Y_test,  y_pred_proba)\n",
    "auc = round(metrics.roc_auc_score(Y_test, y_pred_proba),2)\n",
    "plt.plot(fpr,tpr,label=\"GaussianNB, auc=\"+str(auc))\n",
    "\n",
    "\n",
    "\n",
    "\n",
    "from sklearn.linear_model import LogisticRegression\n",
    "from sklearn.metrics import accuracy_score\n",
    "model=LogisticRegression()\n",
    "model.fit(X_train,Y_train)\n",
    "print(X_train.shape)\n",
    "Y_pred=model.predict(X_test)\n",
    "print(Y_pred)\n",
    "Logi_acc=accuracy_score(Y_test,Y_pred)*100\n",
    "print(Logi_acc)\n",
    "\n",
    "y_pred_proba = model.predict_proba(X_test)[:,1]\n",
    "y_pred_proba[3]\n",
    "from sklearn import metrics\n",
    "fpr, tpr, _ = metrics.roc_curve(Y_test,  y_pred_proba)\n",
    "auc = round(metrics.roc_auc_score(Y_test, y_pred_proba),2)\n",
    "plt.plot(fpr,tpr,label=\"LogisticRegression, auc=\"+str(auc))\n",
    "\n",
    "\n",
    "\n",
    "\n",
    "from sklearn.ensemble import AdaBoostClassifier\n",
    "from sklearn.metrics import accuracy_score\n",
    "# from sklearn.metrics import plot_confusion_matrix\n",
    "model = AdaBoostClassifier(n_estimators=99,learning_rate=1)\n",
    "model.fit(X_train,Y_train)\n",
    "Y_pred=model.predict(X_test)\n",
    "ada_acc=accuracy_score(Y_test,Y_pred)*100\n",
    "print(ada_acc)\n",
    "# plot_confusion_matrix(model, X_test, Y_test) \n",
    "\n",
    "y_pred_proba = model.predict_proba(X_test)[:,1]\n",
    "y_pred_proba[3]\n",
    "from sklearn import metrics\n",
    "fpr, tpr, _ = metrics.roc_curve(Y_test,  y_pred_proba)\n",
    "auc = round(metrics.roc_auc_score(Y_test, y_pred_proba),2)\n",
    "plt.plot(fpr,tpr,label=\"AdaBoost, auc=\"+str(auc))\n",
    "\n",
    "\n",
    "\n",
    "\n",
    "#KNN\n",
    "from sklearn.neighbors import KNeighborsClassifier\n",
    "model=KNeighborsClassifier(n_neighbors=3)\n",
    "model.fit(X_train,Y_train)\n",
    "Y_pred=model.predict(X_test)\n",
    "print(Y_pred)\n",
    "KNN_acc=accuracy_score(Y_test,Y_pred)*100\n",
    "KNN_acc\n",
    "\n",
    "\n",
    "y_pred_proba = model.predict_proba(X_test)[:,1]\n",
    "y_pred_proba[3]\n",
    "from sklearn import metrics\n",
    "fpr, tpr, _ = metrics.roc_curve(Y_test,  y_pred_proba)\n",
    "auc = round(metrics.roc_auc_score(Y_test, y_pred_proba),2)\n",
    "plt.plot(fpr,tpr,label=\"KNeighbors, auc=\"+str(auc))\n",
    "plt.legend(loc=4)\n",
    "plt.show()\n"
   ]
  },
  {
   "cell_type": "code",
   "execution_count": 17,
   "id": "25107198-b561-4279-8c47-2a581ec80179",
   "metadata": {},
   "outputs": [
    {
     "data": {
      "text/html": [
       "<div>\n",
       "<style scoped>\n",
       "    .dataframe tbody tr th:only-of-type {\n",
       "        vertical-align: middle;\n",
       "    }\n",
       "\n",
       "    .dataframe tbody tr th {\n",
       "        vertical-align: top;\n",
       "    }\n",
       "\n",
       "    .dataframe thead th {\n",
       "        text-align: right;\n",
       "    }\n",
       "</style>\n",
       "<table border=\"1\" class=\"dataframe\">\n",
       "  <thead>\n",
       "    <tr style=\"text-align: right;\">\n",
       "      <th></th>\n",
       "      <th>Models</th>\n",
       "      <th>Accuracy score</th>\n",
       "    </tr>\n",
       "  </thead>\n",
       "  <tbody>\n",
       "    <tr>\n",
       "      <th>3</th>\n",
       "      <td>Random-Forest Classifier</td>\n",
       "      <td>93.000000</td>\n",
       "    </tr>\n",
       "    <tr>\n",
       "      <th>1</th>\n",
       "      <td>KNeighbor Classifier</td>\n",
       "      <td>90.714286</td>\n",
       "    </tr>\n",
       "    <tr>\n",
       "      <th>4</th>\n",
       "      <td>DecisionTreeClassifier</td>\n",
       "      <td>87.380952</td>\n",
       "    </tr>\n",
       "    <tr>\n",
       "      <th>2</th>\n",
       "      <td>GaussianNB</td>\n",
       "      <td>76.523810</td>\n",
       "    </tr>\n",
       "    <tr>\n",
       "      <th>0</th>\n",
       "      <td>Logistic Regression</td>\n",
       "      <td>56.095238</td>\n",
       "    </tr>\n",
       "  </tbody>\n",
       "</table>\n",
       "</div>"
      ],
      "text/plain": [
       "                     Models  Accuracy score\n",
       "3  Random-Forest Classifier       93.000000\n",
       "1      KNeighbor Classifier       90.714286\n",
       "4    DecisionTreeClassifier       87.380952\n",
       "2                GaussianNB       76.523810\n",
       "0       Logistic Regression       56.095238"
      ]
     },
     "execution_count": 17,
     "metadata": {},
     "output_type": "execute_result"
    }
   ],
   "source": [
    "# all models with accuracy score\n",
    "\n",
    "models=pd.DataFrame({'Models':['Logistic Regression','KNeighbor Classifier','GaussianNB','Random-Forest Classifier','DecisionTreeClassifier'],\n",
    "                     'Accuracy score':[Logi_acc,KNN_acc,NB_acc,RandFor_acc,DeciTr_acc]})\n",
    "models.sort_values(by=\"Accuracy score\",ascending=False)"
   ]
  },
  {
   "cell_type": "code",
   "execution_count": 20,
   "id": "457706bb-eb3e-4e63-9dbc-ecf81d881234",
   "metadata": {},
   "outputs": [
    {
     "name": "stdout",
     "output_type": "stream",
     "text": [
      "[1 1 0 ... 0 1 1]\n",
      "92.9047619047619\n"
     ]
    },
    {
     "data": {
      "text/plain": [
       "[<matplotlib.lines.Line2D at 0x29dd57d4d30>]"
      ]
     },
     "execution_count": 20,
     "metadata": {},
     "output_type": "execute_result"
    },
    {
     "data": {
      "image/png": "[encoded data removed]",
      "text/plain": [
       "<Figure size 640x480 with 1 Axes>"
      ]
     },
     "metadata": {},
     "output_type": "display_data"
    }
   ],
   "source": [
    "from sklearn.ensemble import RandomForestClassifier\n",
    "model=RandomForestClassifier(n_estimators=100)\n",
    "model.fit(X_train,Y_train)\n",
    "Y_pred= model.predict(X_test)\n",
    "print(Y_pred)\n",
    "RandFor_acc=accuracy_score(Y_test,Y_pred)*100\n",
    "print(RandFor_acc)\n",
    "\n",
    "y_pred_proba = model.predict_proba(X_test)[:,1]\n",
    "y_pred_proba[3]\n",
    "from sklearn import metrics\n",
    "fpr, tpr, _ = metrics.roc_curve(Y_test,  y_pred_proba)\n",
    "auc = round(metrics.roc_auc_score(Y_test, y_pred_proba),2)\n",
    "plt.plot(fpr,tpr,label=\"RandomForest, auc=\"+str(auc))\n",
    "\n"
   ]
  },
  {
   "cell_type": "code",
   "execution_count": 18,
   "id": "704735a0-79c1-4506-a41d-c1b68a6a35ba",
   "metadata": {},
   "outputs": [],
   "source": [
    "from joblib import dump"
   ]
  },
  {
   "cell_type": "code",
   "execution_count": 22,
   "id": "c3383a85-b3d7-4bac-bec7-c841bfc58a33",
   "metadata": {},
   "outputs": [
    {
     "data": {
      "text/plain": [
       "['./savedmodels/model.joblib']"
      ]
     },
     "execution_count": 22,
     "metadata": {},
     "output_type": "execute_result"
    }
   ],
   "source": [
    "dump(model, './savedmodels/model.joblib')"
   ]
  },
  {
   "cell_type": "code",
   "execution_count": null,
   "id": "5ef820d9-feff-4663-b166-abc7915b57cb",
   "metadata": {},
   "outputs": [],
   "source": []
  }
 ],
 "metadata": {
  "kernelspec": {
   "display_name": "Python 3 (ipykernel)",
   "language": "python",
   "name": "python3"
  },
  "language_info": {
   "codemirror_mode": {
    "name": "ipython",
    "version": 3
   },
   "file_extension": ".py",
   "mimetype": "text/x-python",
   "name": "python",
   "nbconvert_exporter": "python",
   "pygments_lexer": "ipython3",
   "version": "3.10.6"
  }
 },
 "nbformat": 4,
 "nbformat_minor": 5
}
