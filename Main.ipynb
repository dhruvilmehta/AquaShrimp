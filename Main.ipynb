{
 "cells": [
  {
   "cell_type": "code",
   "execution_count": 1,
   "id": "50cfb790-4d19-4703-8c8b-c1b511d4bfbf",
   "metadata": {
    "tags": []
   },
   "outputs": [],
   "source": [
    "import pandas as pd\n",
    "import numpy as np \n",
    "import seaborn as sns\n",
    "import matplotlib.pyplot as plt \n",
    "%matplotlib inline\n",
    "from sklearn.model_selection import train_test_split "
   ]
  },
  {
   "cell_type": "code",
   "execution_count": 2,
   "id": "ca90f9f3-a316-456d-a4c8-fed9446edb6c",
   "metadata": {
    "tags": []
   },
   "outputs": [
    {
     "data": {
      "text/html": [
       "<div>\n",
       "<style scoped>\n",
       "    .dataframe tbody tr th:only-of-type {\n",
       "        vertical-align: middle;\n",
       "    }\n",
       "\n",
       "    .dataframe tbody tr th {\n",
       "        vertical-align: top;\n",
       "    }\n",
       "\n",
       "    .dataframe thead th {\n",
       "        text-align: right;\n",
       "    }\n",
       "</style>\n",
       "<table border=\"1\" class=\"dataframe\">\n",
       "  <thead>\n",
       "    <tr style=\"text-align: right;\">\n",
       "      <th></th>\n",
       "      <th>DO</th>\n",
       "      <th>pH</th>\n",
       "      <th>Temperature</th>\n",
       "      <th>Ammonia</th>\n",
       "      <th>Nitrite Nitrogen</th>\n",
       "      <th>Carbon Dioxide</th>\n",
       "      <th>Salinity</th>\n",
       "      <th>Health</th>\n",
       "    </tr>\n",
       "  </thead>\n",
       "  <tbody>\n",
       "    <tr>\n",
       "      <th>0</th>\n",
       "      <td>3.8</td>\n",
       "      <td>8.7</td>\n",
       "      <td>26</td>\n",
       "      <td>0.9</td>\n",
       "      <td>1</td>\n",
       "      <td>5.7</td>\n",
       "      <td>15.4</td>\n",
       "      <td>1</td>\n",
       "    </tr>\n",
       "    <tr>\n",
       "      <th>1</th>\n",
       "      <td>3.5</td>\n",
       "      <td>8.2</td>\n",
       "      <td>28</td>\n",
       "      <td>0.6</td>\n",
       "      <td>1</td>\n",
       "      <td>6.5</td>\n",
       "      <td>18.4</td>\n",
       "      <td>0</td>\n",
       "    </tr>\n",
       "    <tr>\n",
       "      <th>2</th>\n",
       "      <td>3.9</td>\n",
       "      <td>7.4</td>\n",
       "      <td>30</td>\n",
       "      <td>0.6</td>\n",
       "      <td>1</td>\n",
       "      <td>6.4</td>\n",
       "      <td>23.7</td>\n",
       "      <td>1</td>\n",
       "    </tr>\n",
       "    <tr>\n",
       "      <th>3</th>\n",
       "      <td>3.7</td>\n",
       "      <td>8.6</td>\n",
       "      <td>27</td>\n",
       "      <td>1.0</td>\n",
       "      <td>1</td>\n",
       "      <td>3.0</td>\n",
       "      <td>22.8</td>\n",
       "      <td>1</td>\n",
       "    </tr>\n",
       "    <tr>\n",
       "      <th>4</th>\n",
       "      <td>5.8</td>\n",
       "      <td>7.9</td>\n",
       "      <td>26</td>\n",
       "      <td>0.5</td>\n",
       "      <td>1</td>\n",
       "      <td>4.8</td>\n",
       "      <td>17.8</td>\n",
       "      <td>0</td>\n",
       "    </tr>\n",
       "  </tbody>\n",
       "</table>\n",
       "</div>"
      ],
      "text/plain": [
       "    DO   pH  Temperature  Ammonia  Nitrite Nitrogen  Carbon Dioxide  Salinity  \\\n",
       "0  3.8  8.7           26      0.9                 1             5.7      15.4   \n",
       "1  3.5  8.2           28      0.6                 1             6.5      18.4   \n",
       "2  3.9  7.4           30      0.6                 1             6.4      23.7   \n",
       "3  3.7  8.6           27      1.0                 1             3.0      22.8   \n",
       "4  5.8  7.9           26      0.5                 1             4.8      17.8   \n",
       "\n",
       "   Health  \n",
       "0       1  \n",
       "1       0  \n",
       "2       1  \n",
       "3       1  \n",
       "4       0  "
      ]
     },
     "execution_count": 2,
     "metadata": {},
     "output_type": "execute_result"
    }
   ],
   "source": [
    "data = pd.read_csv('./Aqua.csv')\n",
    "data.head()"
   ]
  },
  {
   "cell_type": "code",
   "execution_count": 3,
   "id": "87999c8b-84a1-4d55-8bdb-ba58b44b49f4",
   "metadata": {},
   "outputs": [
    {
     "name": "stdout",
     "output_type": "stream",
     "text": [
      "[1 0 1 ... 1 0 1]\n"
     ]
    }
   ],
   "source": [
    "Y=data.iloc[:,7].values\n",
    "print(Y)"
   ]
  },
  {
   "cell_type": "code",
   "execution_count": 4,
   "id": "2bbc771b-8c14-4df5-8cb9-b278379493d7",
   "metadata": {},
   "outputs": [
    {
     "data": {
      "text/html": [
       "<div>\n",
       "<style scoped>\n",
       "    .dataframe tbody tr th:only-of-type {\n",
       "        vertical-align: middle;\n",
       "    }\n",
       "\n",
       "    .dataframe tbody tr th {\n",
       "        vertical-align: top;\n",
       "    }\n",
       "\n",
       "    .dataframe thead th {\n",
       "        text-align: right;\n",
       "    }\n",
       "</style>\n",
       "<table border=\"1\" class=\"dataframe\">\n",
       "  <thead>\n",
       "    <tr style=\"text-align: right;\">\n",
       "      <th></th>\n",
       "      <th>DO</th>\n",
       "      <th>pH</th>\n",
       "      <th>Temperature</th>\n",
       "      <th>Ammonia</th>\n",
       "      <th>Nitrite Nitrogen</th>\n",
       "      <th>Carbon Dioxide</th>\n",
       "      <th>Salinity</th>\n",
       "    </tr>\n",
       "  </thead>\n",
       "  <tbody>\n",
       "    <tr>\n",
       "      <th>0</th>\n",
       "      <td>3.8</td>\n",
       "      <td>8.7</td>\n",
       "      <td>26</td>\n",
       "      <td>0.9</td>\n",
       "      <td>1</td>\n",
       "      <td>5.7</td>\n",
       "      <td>15.4</td>\n",
       "    </tr>\n",
       "    <tr>\n",
       "      <th>1</th>\n",
       "      <td>3.5</td>\n",
       "      <td>8.2</td>\n",
       "      <td>28</td>\n",
       "      <td>0.6</td>\n",
       "      <td>1</td>\n",
       "      <td>6.5</td>\n",
       "      <td>18.4</td>\n",
       "    </tr>\n",
       "    <tr>\n",
       "      <th>2</th>\n",
       "      <td>3.9</td>\n",
       "      <td>7.4</td>\n",
       "      <td>30</td>\n",
       "      <td>0.6</td>\n",
       "      <td>1</td>\n",
       "      <td>6.4</td>\n",
       "      <td>23.7</td>\n",
       "    </tr>\n",
       "    <tr>\n",
       "      <th>3</th>\n",
       "      <td>3.7</td>\n",
       "      <td>8.6</td>\n",
       "      <td>27</td>\n",
       "      <td>1.0</td>\n",
       "      <td>1</td>\n",
       "      <td>3.0</td>\n",
       "      <td>22.8</td>\n",
       "    </tr>\n",
       "    <tr>\n",
       "      <th>4</th>\n",
       "      <td>5.8</td>\n",
       "      <td>7.9</td>\n",
       "      <td>26</td>\n",
       "      <td>0.5</td>\n",
       "      <td>1</td>\n",
       "      <td>4.8</td>\n",
       "      <td>17.8</td>\n",
       "    </tr>\n",
       "    <tr>\n",
       "      <th>...</th>\n",
       "      <td>...</td>\n",
       "      <td>...</td>\n",
       "      <td>...</td>\n",
       "      <td>...</td>\n",
       "      <td>...</td>\n",
       "      <td>...</td>\n",
       "      <td>...</td>\n",
       "    </tr>\n",
       "    <tr>\n",
       "      <th>6287</th>\n",
       "      <td>3.1</td>\n",
       "      <td>5.9</td>\n",
       "      <td>27</td>\n",
       "      <td>0.9</td>\n",
       "      <td>1</td>\n",
       "      <td>7.3</td>\n",
       "      <td>12.8</td>\n",
       "    </tr>\n",
       "    <tr>\n",
       "      <th>6288</th>\n",
       "      <td>3.6</td>\n",
       "      <td>8.6</td>\n",
       "      <td>43</td>\n",
       "      <td>0.7</td>\n",
       "      <td>1</td>\n",
       "      <td>18.9</td>\n",
       "      <td>11.0</td>\n",
       "    </tr>\n",
       "    <tr>\n",
       "      <th>6289</th>\n",
       "      <td>3.8</td>\n",
       "      <td>7.6</td>\n",
       "      <td>31</td>\n",
       "      <td>0.4</td>\n",
       "      <td>1</td>\n",
       "      <td>7.2</td>\n",
       "      <td>22.9</td>\n",
       "    </tr>\n",
       "    <tr>\n",
       "      <th>6290</th>\n",
       "      <td>4.6</td>\n",
       "      <td>11.9</td>\n",
       "      <td>26</td>\n",
       "      <td>0.6</td>\n",
       "      <td>1</td>\n",
       "      <td>3.9</td>\n",
       "      <td>21.8</td>\n",
       "    </tr>\n",
       "    <tr>\n",
       "      <th>6291</th>\n",
       "      <td>3.8</td>\n",
       "      <td>6.9</td>\n",
       "      <td>32</td>\n",
       "      <td>0.2</td>\n",
       "      <td>1</td>\n",
       "      <td>7.5</td>\n",
       "      <td>19.6</td>\n",
       "    </tr>\n",
       "  </tbody>\n",
       "</table>\n",
       "<p>6292 rows × 7 columns</p>\n",
       "</div>"
      ],
      "text/plain": [
       "       DO    pH  Temperature  Ammonia  Nitrite Nitrogen  Carbon Dioxide  \\\n",
       "0     3.8   8.7           26      0.9                 1             5.7   \n",
       "1     3.5   8.2           28      0.6                 1             6.5   \n",
       "2     3.9   7.4           30      0.6                 1             6.4   \n",
       "3     3.7   8.6           27      1.0                 1             3.0   \n",
       "4     5.8   7.9           26      0.5                 1             4.8   \n",
       "...   ...   ...          ...      ...               ...             ...   \n",
       "6287  3.1   5.9           27      0.9                 1             7.3   \n",
       "6288  3.6   8.6           43      0.7                 1            18.9   \n",
       "6289  3.8   7.6           31      0.4                 1             7.2   \n",
       "6290  4.6  11.9           26      0.6                 1             3.9   \n",
       "6291  3.8   6.9           32      0.2                 1             7.5   \n",
       "\n",
       "      Salinity  \n",
       "0         15.4  \n",
       "1         18.4  \n",
       "2         23.7  \n",
       "3         22.8  \n",
       "4         17.8  \n",
       "...        ...  \n",
       "6287      12.8  \n",
       "6288      11.0  \n",
       "6289      22.9  \n",
       "6290      21.8  \n",
       "6291      19.6  \n",
       "\n",
       "[6292 rows x 7 columns]"
      ]
     },
     "execution_count": 4,
     "metadata": {},
     "output_type": "execute_result"
    }
   ],
   "source": [
    "X=data\n",
    "del data[data.columns[-1]]\n",
    "X"
   ]
  },
  {
   "cell_type": "code",
   "execution_count": 5,
   "id": "a73d585c-910f-452a-a49c-4400f7adbe8b",
   "metadata": {
    "tags": []
   },
   "outputs": [
    {
     "data": {
      "text/plain": [
       "array([1, 0, 1, ..., 1, 0, 1], dtype=int64)"
      ]
     },
     "execution_count": 5,
     "metadata": {},
     "output_type": "execute_result"
    }
   ],
   "source": [
    "from sklearn.model_selection import train_test_split\n",
    "X_train,X_test,Y_train,Y_test=train_test_split(X,Y,test_size=0.3,random_state=7)\n",
    "Y"
   ]
  },
  {
   "cell_type": "code",
   "execution_count": null,
   "id": "19cd4d06-ad96-4921-a0d8-1e28fb90b8f0",
   "metadata": {},
   "outputs": [],
   "source": []
  },
  {
   "cell_type": "code",
   "execution_count": 17,
   "id": "d8d347ae-afec-4127-b56d-d8915ba090cd",
   "metadata": {
    "tags": []
   },
   "outputs": [
    {
     "name": "stdout",
     "output_type": "stream",
     "text": [
      "78.8135593220339\n"
     ]
    },
    {
     "data": {
      "text/plain": [
       "[<matplotlib.lines.Line2D at 0x2ac191c5c00>]"
      ]
     },
     "execution_count": 17,
     "metadata": {},
     "output_type": "execute_result"
    },
    {
     "data": {
      "image/png": "[encoded data removed]",
      "text/plain": [
       "<Figure size 640x480 with 1 Axes>"
      ]
     },
     "metadata": {},
     "output_type": "display_data"
    }
   ],
   "source": [
    "from sklearn.ensemble import AdaBoostClassifier\n",
    "from sklearn.metrics import accuracy_score\n",
    "# from sklearn.metrics import plot_confusion_matrix\n",
    "model = AdaBoostClassifier(n_estimators=99,learning_rate=1)\n",
    "model.fit(X_train,Y_train)\n",
    "Y_pred=model.predict(X_test)\n",
    "ada_acc=accuracy_score(Y_test,Y_pred)*100\n",
    "print(ada_acc)\n",
    "# plot_confusion_matrix(model, X_test, Y_test) \n",
    "\n",
    "y_pred_proba = model.predict_proba(X_test)[:,1]\n",
    "y_pred_proba[3]\n",
    "from sklearn import metrics\n",
    "fpr, tpr, _ = metrics.roc_curve(Y_test,  y_pred_proba)\n",
    "auc = metrics.roc_auc_score(Y_test, y_pred_proba)\n",
    "plt.plot(fpr,tpr,label=\"data 1, auc=\"+str(auc))\n",
    "# plt.legend(loc=4)\n",
    "# plt.show()\n",
    "\n",
    "\n",
    "# # Custom Input 1\n",
    "# features = np.array([[200000,20993.0,41.000000,3,6.0,3,3.0,3.0,1.0,1,2,1,0.0,1,3,1.0,3,1,3]])\n",
    "# Y_pred=model.predict(features)\n",
    "# if(Y_pred == 1):\n",
    "#     print(\"Person is likely to buy the package\")\n",
    "# else:\n",
    "#     print(\"Person is less likely to buy the package\")\n",
    "\n",
    "# # Custom Input 2    \n",
    "# features = np.array([[200001,20130.0,49.000000,1,14.0,3,4.0,4.0,2.0,0,3,1,2.0,0,3,2.0,3,2,3]])\n",
    "# Y_pred=model.predict(features)\n",
    "# if(Y_pred == 1):\n",
    "#     print(\"Person is likely to buy the package\")\n",
    "# else:\n",
    "#     print(\"Person is less likely to buy the package\")\n"
   ]
  },
  {
   "cell_type": "code",
   "execution_count": 18,
   "id": "52755644-3638-4e3c-96d1-428aae4ee8ac",
   "metadata": {
    "tags": []
   },
   "outputs": [
    {
     "name": "stdout",
     "output_type": "stream",
     "text": [
      "(4404, 7)\n",
      "[1 1 1 ... 0 1 0]\n",
      "59.79872881355932\n"
     ]
    },
    {
     "data": {
      "text/plain": [
       "[<matplotlib.lines.Line2D at 0x2ac20ab0e50>]"
      ]
     },
     "execution_count": 18,
     "metadata": {},
     "output_type": "execute_result"
    },
    {
     "data": {
      "image/png": "[encoded data removed]",
      "text/plain": [
       "<Figure size 640x480 with 1 Axes>"
      ]
     },
     "metadata": {},
     "output_type": "display_data"
    }
   ],
   "source": [
    "from sklearn.linear_model import LogisticRegression\n",
    "from sklearn.metrics import accuracy_score\n",
    "model=LogisticRegression()\n",
    "model.fit(X_train,Y_train)\n",
    "print(X_train.shape)\n",
    "Y_pred=model.predict(X_test)\n",
    "print(Y_pred)\n",
    "Logi_acc=accuracy_score(Y_test,Y_pred)*100\n",
    "print(Logi_acc)\n",
    "\n",
    "y_pred_proba = model.predict_proba(X_test)[:,1]\n",
    "y_pred_proba[3]\n",
    "from sklearn import metrics\n",
    "fpr, tpr, _ = metrics.roc_curve(Y_test,  y_pred_proba)\n",
    "auc = metrics.roc_auc_score(Y_test, y_pred_proba)\n",
    "plt.plot(fpr,tpr,label=\"data 1, auc=\"+str(auc))\n",
    "# plt.legend(loc=4)\n",
    "# plt.show()\n"
   ]
  },
  {
   "cell_type": "code",
   "execution_count": 19,
   "id": "44818c77-305b-42fb-b324-226554f4bc2d",
   "metadata": {
    "tags": []
   },
   "outputs": [
    {
     "name": "stdout",
     "output_type": "stream",
     "text": [
      "[1 1 0 ... 0 1 1]\n"
     ]
    },
    {
     "data": {
      "text/plain": [
       "[<matplotlib.lines.Line2D at 0x2ac20d22650>]"
      ]
     },
     "execution_count": 19,
     "metadata": {},
     "output_type": "execute_result"
    },
    {
     "data": {
      "image/png": "[encoded data removed]",
      "text/plain": [
       "<Figure size 640x480 with 1 Axes>"
      ]
     },
     "metadata": {},
     "output_type": "display_data"
    }
   ],
   "source": [
    "#Naive bayes\n",
    "from sklearn.naive_bayes import GaussianNB\n",
    "model= GaussianNB()\n",
    "model.fit(X_train,Y_train)\n",
    "# print(X_test[1])\n",
    "# print(X_test)\n",
    "# print(X_test[0].reshape(1,-1))\n",
    "\n",
    "Y_pred= model.predict(X_test)\n",
    "print(Y_pred)\n",
    "NB_acc=accuracy_score(Y_test,Y_pred)*100\n",
    "NB_acc\n",
    "\n",
    "y_pred_proba = model.predict_proba(X_test)[:,1]\n",
    "y_pred_proba[3]\n",
    "from sklearn import metrics\n",
    "fpr, tpr, _ = metrics.roc_curve(Y_test,  y_pred_proba)\n",
    "auc = metrics.roc_auc_score(Y_test, y_pred_proba)\n",
    "plt.plot(fpr,tpr,label=\"data 1, auc=\"+str(auc))\n",
    "# plt.legend(loc=4)\n",
    "# plt.show()\n"
   ]
  },
  {
   "cell_type": "code",
   "execution_count": 31,
   "id": "b7cc59b5-8711-4e13-8de8-18fbf00d7b2b",
   "metadata": {
    "tags": []
   },
   "outputs": [
    {
     "name": "stdout",
     "output_type": "stream",
     "text": [
      "[1 0 1 ... 1 0 1]\n",
      "[1 1 0 ... 0 1 1]\n",
      "[1 1 0 ... 0 1 1]\n",
      "[1 1 0 ... 0 1 1]\n",
      "(4404, 7)\n",
      "[1 1 1 ... 0 1 0]\n",
      "59.79872881355932\n",
      "78.8135593220339\n",
      "[1 1 0 ... 0 1 1]\n"
     ]
    },
    {
     "data": {
      "image/png": "[encoded data removed]",
      "text/plain": [
       "<Figure size 640x480 with 1 Axes>"
      ]
     },
     "metadata": {},
     "output_type": "display_data"
    }
   ],
   "source": [
    "#SVM\n",
    "from sklearn.svm import SVC\n",
    "model=SVC(kernel=\"linear\",probability=True)  #sometimes kernal= poly or \"rbf\"\n",
    "model.fit(X_train,Y_train)\n",
    "Y_pred= model.predict(X_test)\n",
    "print(Y)\n",
    "SVC_acc=accuracy_score(Y_test,Y_pred)*100\n",
    "SVC_acc\n",
    "\n",
    "y_pred_proba = model.predict_proba(X_test)[:,1]\n",
    "y_pred_proba[3]\n",
    "from sklearn import metrics\n",
    "fpr, tpr, _ = metrics.roc_curve(Y_test,  y_pred_proba)\n",
    "auc = round(metrics.roc_auc_score(Y_test, y_pred_proba),2)\n",
    "plt.plot(fpr,tpr,label=\"SVC, auc=\"+str(auc))\n",
    "\n",
    "\n",
    "#RandomForest\n",
    "from sklearn.ensemble import RandomForestClassifier\n",
    "model=RandomForestClassifier(n_estimators=100)\n",
    "model.fit(X_train,Y_train)\n",
    "Y_pred= model.predict(X_test)\n",
    "print(Y_pred)\n",
    "RandFor_acc=accuracy_score(Y_test,Y_pred)*100\n",
    "RandFor_acc\n",
    "\n",
    "y_pred_proba = model.predict_proba(X_test)[:,1]\n",
    "y_pred_proba[3]\n",
    "from sklearn import metrics\n",
    "fpr, tpr, _ = metrics.roc_curve(Y_test,  y_pred_proba)\n",
    "auc = round(metrics.roc_auc_score(Y_test, y_pred_proba),2)\n",
    "plt.plot(fpr,tpr,label=\"RandomForest, auc=\"+str(auc))\n",
    "\n",
    "\n",
    "#decision tree\n",
    "from sklearn.tree import DecisionTreeClassifier\n",
    "model=DecisionTreeClassifier()\n",
    "model.fit(X_train,Y_train)\n",
    "Y_pred= model.predict(X_test)\n",
    "print(Y_pred)\n",
    "DeciTr_acc=accuracy_score(Y_test,Y_pred)*100\n",
    "DeciTr_acc\n",
    "\n",
    "\n",
    "y_pred_proba = model.predict_proba(X_test)[:,1]\n",
    "y_pred_proba[3]\n",
    "from sklearn import metrics\n",
    "fpr, tpr, _ = metrics.roc_curve(Y_test,  y_pred_proba)\n",
    "auc = round(metrics.roc_auc_score(Y_test, y_pred_proba),2)\n",
    "plt.plot(fpr,tpr,label=\"DecisionTree, auc=\"+str(auc))\n",
    "\n",
    "\n",
    "\n",
    "#Naive bayes\n",
    "from sklearn.naive_bayes import GaussianNB\n",
    "model= GaussianNB()\n",
    "model.fit(X_train,Y_train)\n",
    "# print(X_test[1])\n",
    "# print(X_test)\n",
    "# print(X_test[0].reshape(1,-1))\n",
    "\n",
    "Y_pred= model.predict(X_test)\n",
    "print(Y_pred)\n",
    "NB_acc=accuracy_score(Y_test,Y_pred)*100\n",
    "NB_acc\n",
    "\n",
    "y_pred_proba = model.predict_proba(X_test)[:,1]\n",
    "y_pred_proba[3]\n",
    "from sklearn import metrics\n",
    "fpr, tpr, _ = metrics.roc_curve(Y_test,  y_pred_proba)\n",
    "auc = round(metrics.roc_auc_score(Y_test, y_pred_proba),2)\n",
    "plt.plot(fpr,tpr,label=\"GaussianNB, auc=\"+str(auc))\n",
    "\n",
    "\n",
    "\n",
    "\n",
    "from sklearn.linear_model import LogisticRegression\n",
    "from sklearn.metrics import accuracy_score\n",
    "model=LogisticRegression()\n",
    "model.fit(X_train,Y_train)\n",
    "print(X_train.shape)\n",
    "Y_pred=model.predict(X_test)\n",
    "print(Y_pred)\n",
    "Logi_acc=accuracy_score(Y_test,Y_pred)*100\n",
    "print(Logi_acc)\n",
    "\n",
    "y_pred_proba = model.predict_proba(X_test)[:,1]\n",
    "y_pred_proba[3]\n",
    "from sklearn import metrics\n",
    "fpr, tpr, _ = metrics.roc_curve(Y_test,  y_pred_proba)\n",
    "auc = round(metrics.roc_auc_score(Y_test, y_pred_proba),2)\n",
    "plt.plot(fpr,tpr,label=\"LogisticRegression, auc=\"+str(auc))\n",
    "\n",
    "\n",
    "\n",
    "\n",
    "from sklearn.ensemble import AdaBoostClassifier\n",
    "from sklearn.metrics import accuracy_score\n",
    "# from sklearn.metrics import plot_confusion_matrix\n",
    "model = AdaBoostClassifier(n_estimators=99,learning_rate=1)\n",
    "model.fit(X_train,Y_train)\n",
    "Y_pred=model.predict(X_test)\n",
    "ada_acc=accuracy_score(Y_test,Y_pred)*100\n",
    "print(ada_acc)\n",
    "# plot_confusion_matrix(model, X_test, Y_test) \n",
    "\n",
    "y_pred_proba = model.predict_proba(X_test)[:,1]\n",
    "y_pred_proba[3]\n",
    "from sklearn import metrics\n",
    "fpr, tpr, _ = metrics.roc_curve(Y_test,  y_pred_proba)\n",
    "auc = round(metrics.roc_auc_score(Y_test, y_pred_proba),2)\n",
    "plt.plot(fpr,tpr,label=\"AdaBoost, auc=\"+str(auc))\n",
    "\n",
    "\n",
    "\n",
    "\n",
    "#KNN\n",
    "from sklearn.neighbors import KNeighborsClassifier\n",
    "model=KNeighborsClassifier(n_neighbors=3)\n",
    "model.fit(X_train,Y_train)\n",
    "Y_pred=model.predict(X_test)\n",
    "print(Y_pred)\n",
    "KNN_acc=accuracy_score(Y_test,Y_pred)*100\n",
    "KNN_acc\n",
    "\n",
    "\n",
    "y_pred_proba = model.predict_proba(X_test)[:,1]\n",
    "y_pred_proba[3]\n",
    "from sklearn import metrics\n",
    "fpr, tpr, _ = metrics.roc_curve(Y_test,  y_pred_proba)\n",
    "auc = round(metrics.roc_auc_score(Y_test, y_pred_proba),2)\n",
    "plt.plot(fpr,tpr,label=\"KNeighbors, auc=\"+str(auc))\n",
    "plt.legend(loc=4)\n",
    "plt.show()\n"
   ]
  },
  {
   "cell_type": "code",
   "execution_count": 21,
   "id": "cbdb7902-32b0-4125-9360-3c7b3197e4ed",
   "metadata": {
    "tags": []
   },
   "outputs": [
    {
     "name": "stdout",
     "output_type": "stream",
     "text": [
      "[1 1 0 ... 0 1 1]\n"
     ]
    },
    {
     "data": {
      "text/plain": [
       "[<matplotlib.lines.Line2D at 0x2ac20e15630>]"
      ]
     },
     "execution_count": 21,
     "metadata": {},
     "output_type": "execute_result"
    },
    {
     "data": {
      "image/png": "[encoded data removed]",
      "text/plain": [
       "<Figure size 640x480 with 1 Axes>"
      ]
     },
     "metadata": {},
     "output_type": "display_data"
    }
   ],
   "source": [
    "#RandomForest\n",
    "from sklearn.ensemble import RandomForestClassifier\n",
    "model=RandomForestClassifier(n_estimators=100)\n",
    "model.fit(X_train,Y_train)\n",
    "Y_pred= model.predict(X_test)\n",
    "print(Y_pred)\n",
    "RandFor_acc=accuracy_score(Y_test,Y_pred)*100\n",
    "RandFor_acc\n",
    "\n",
    "y_pred_proba = model.predict_proba(X_test)[:,1]\n",
    "y_pred_proba[3]\n",
    "from sklearn import metrics\n",
    "fpr, tpr, _ = metrics.roc_curve(Y_test,  y_pred_proba)\n",
    "auc = metrics.roc_auc_score(Y_test, y_pred_proba)\n",
    "plt.plot(fpr,tpr,label=\"data 1, auc=\"+str(auc))\n",
    "\n"
   ]
  },
  {
   "cell_type": "code",
   "execution_count": 22,
   "id": "2a5ad260-0548-4021-a8cd-48339f30fc8d",
   "metadata": {
    "tags": []
   },
   "outputs": [
    {
     "name": "stdout",
     "output_type": "stream",
     "text": [
      "[1 1 0 ... 0 1 1]\n"
     ]
    },
    {
     "data": {
      "text/plain": [
       "[<matplotlib.lines.Line2D at 0x2ac20e88b80>]"
      ]
     },
     "execution_count": 22,
     "metadata": {},
     "output_type": "execute_result"
    },
    {
     "data": {
      "image/png": "[encoded data removed]",
      "text/plain": [
       "<Figure size 640x480 with 1 Axes>"
      ]
     },
     "metadata": {},
     "output_type": "display_data"
    }
   ],
   "source": [
    "#KNN\n",
    "from sklearn.neighbors import KNeighborsClassifier\n",
    "model=KNeighborsClassifier(n_neighbors=3)\n",
    "model.fit(X_train,Y_train)\n",
    "Y_pred=model.predict(X_test)\n",
    "print(Y_pred)\n",
    "KNN_acc=accuracy_score(Y_test,Y_pred)*100\n",
    "KNN_acc\n",
    "\n",
    "\n",
    "y_pred_proba = model.predict_proba(X_test)[:,1]\n",
    "y_pred_proba[3]\n",
    "from sklearn import metrics\n",
    "fpr, tpr, _ = metrics.roc_curve(Y_test,  y_pred_proba)\n",
    "auc = metrics.roc_auc_score(Y_test, y_pred_proba)\n",
    "plt.plot(fpr,tpr,label=\"data 1, auc=\"+str(auc))\n",
    "\n"
   ]
  },
  {
   "cell_type": "code",
   "execution_count": 23,
   "id": "93796a69-ee6f-42c4-92f1-c4253e432f7e",
   "metadata": {
    "tags": []
   },
   "outputs": [
    {
     "name": "stdout",
     "output_type": "stream",
     "text": [
      "[1 1 0 ... 0 1 1]\n"
     ]
    },
    {
     "data": {
      "text/plain": [
       "[<matplotlib.lines.Line2D at 0x2ac20ee5960>]"
      ]
     },
     "execution_count": 23,
     "metadata": {},
     "output_type": "execute_result"
    },
    {
     "data": {
      "image/png": "[encoded data removed]",
      "text/plain": [
       "<Figure size 640x480 with 1 Axes>"
      ]
     },
     "metadata": {},
     "output_type": "display_data"
    }
   ],
   "source": [
    "#decision tree\n",
    "from sklearn.tree import DecisionTreeClassifier\n",
    "model=DecisionTreeClassifier()\n",
    "model.fit(X_train,Y_train)\n",
    "Y_pred= model.predict(X_test)\n",
    "print(Y_pred)\n",
    "DeciTr_acc=accuracy_score(Y_test,Y_pred)*100\n",
    "DeciTr_acc\n",
    "\n",
    "\n",
    "y_pred_proba = model.predict_proba(X_test)[:,1]\n",
    "y_pred_proba[3]\n",
    "from sklearn import metrics\n",
    "fpr, tpr, _ = metrics.roc_curve(Y_test,  y_pred_proba)\n",
    "auc = metrics.roc_auc_score(Y_test, y_pred_proba)\n",
    "plt.plot(fpr,tpr,label=\"data 1, auc=\"+str(auc))\n",
    "\n"
   ]
  },
  {
   "cell_type": "code",
   "execution_count": 24,
   "id": "63a05a70-a97d-4f51-9e58-d2ff53238e24",
   "metadata": {
    "tags": []
   },
   "outputs": [
    {
     "name": "stderr",
     "output_type": "stream",
     "text": [
      "No artists with labels found to put in legend.  Note that artists whose label start with an underscore are ignored when legend() is called with no argument.\n"
     ]
    },
    {
     "data": {
      "image/png": "[encoded data removed]",
      "text/plain": [
       "<Figure size 640x480 with 1 Axes>"
      ]
     },
     "metadata": {},
     "output_type": "display_data"
    }
   ],
   "source": [
    "# Ada = AdaBoostClassifier(n_estimators=99,learning_rate=1)\n",
    "# Ada.fit(X_train,Y_train)\n",
    "# LogisticRegression=LogisticRegression()\n",
    "# LogisticRegression.fit(X_train,Y_train)\n",
    "# Gaussian= GaussianNB()\n",
    "# Gaussian.fit(X_train,Y_train)\n",
    "# SVC=SVC(kernel=\"linear\",probability=True)  #sometimes kernal= poly or \"rbf\"\n",
    "# SVC.fit(X_train,Y_train)\n",
    "# RandomForestClassifier=RandomForestClassifier(n_estimators=100)\n",
    "# RandomForestClassifier.fit(X_train,Y_train)\n",
    "# KNeighborsClassifier=KNeighborsClassifier(n_neighbors=3)\n",
    "# KNeighborsClassifier.fit(X_train,Y_train)\n",
    "# DecisionTreeClassifier=DecisionTreeClassifier()\n",
    "# DecisionTreeClassifier.fit(X_train,Y_train)\n",
    "plt.legend(loc=4)\n",
    "plt.show()"
   ]
  },
  {
   "cell_type": "code",
   "execution_count": 16,
   "id": "a861c4d0-33e9-4a73-a21e-f2fc29bd5aa4",
   "metadata": {
    "tags": []
   },
   "outputs": [
    {
     "ename": "NameError",
     "evalue": "name 'Ada' is not defined",
     "output_type": "error",
     "traceback": [
      "\u001b[1;31m---------------------------------------------------------------------------\u001b[0m",
      "\u001b[1;31mNameError\u001b[0m                                 Traceback (most recent call last)",
      "Cell \u001b[1;32mIn[16], line 2\u001b[0m\n\u001b[0;32m      1\u001b[0m \u001b[38;5;28;01mfrom\u001b[39;00m \u001b[38;5;21;01mscikitplot\u001b[39;00m\u001b[38;5;21;01m.\u001b[39;00m\u001b[38;5;21;01mmetrics\u001b[39;00m \u001b[38;5;28;01mimport\u001b[39;00m plot_roc_curve\n\u001b[1;32m----> 2\u001b[0m disp\u001b[38;5;241m=\u001b[39mplot_roc_curve(\u001b[43mAda\u001b[49m,X_test,Y_test)\n",
      "\u001b[1;31mNameError\u001b[0m: name 'Ada' is not defined"
     ]
    }
   ],
   "source": [
    "from scikitplot.metrics import plot_roc_curve\n",
    "disp=plot_roc_curve(Ada,X_test,Y_test)"
   ]
  },
  {
   "cell_type": "code",
   "execution_count": null,
   "id": "413a172b-d7d2-4dbe-91b9-ade192081749",
   "metadata": {
    "tags": []
   },
   "outputs": [],
   "source": [
    "# all models with accuracy score\n",
    "\n",
    "models=pd.DataFrame({'Models':['Logistic Regression','KNeighbor Classifier','GaussianNB','Supprt Vectro Machine','Random-Forest Classifier','DecisionTreeClassifier'],\n",
    "                     'Accuracy score':[Logi_acc,KNN_acc,NB_acc,SVC_acc,RandFor_acc,DeciTr_acc]})\n",
    "models.sort_values(by=\"Accuracy score\",ascending=False)"
   ]
  },
  {
   "cell_type": "code",
   "execution_count": null,
   "id": "84ae115f-16c8-41ba-bc54-7103cdd18c4c",
   "metadata": {
    "tags": []
   },
   "outputs": [],
   "source": [
    "# Custom Input 1\n",
    "features = np.array([[3.2,6.4,30,0.2,1,3.3,12.9]])\n",
    "Y_pred=model.predict(features)\n",
    "if(Y_pred == 1):\n",
    "    print(\"Health is Good!!\")\n",
    "else:\n",
    "    print(\"Health is not good!!!\")\n"
   ]
  },
  {
   "cell_type": "code",
   "execution_count": null,
   "id": "87120b58-9eba-4e17-bc43-b02dae9691c0",
   "metadata": {
    "tags": []
   },
   "outputs": [],
   "source": [
    "import matplotlib.pyplot as plt"
   ]
  },
  {
   "cell_type": "code",
   "execution_count": null,
   "id": "8d08f695-322b-4b30-8818-830c107d0074",
   "metadata": {
    "tags": []
   },
   "outputs": [],
   "source": [
    "Z=X.iloc[:,5]\n",
    "Z"
   ]
  },
  {
   "cell_type": "code",
   "execution_count": null,
   "id": "c67e50e8-e68a-4121-9d58-bb9640329f32",
   "metadata": {
    "tags": []
   },
   "outputs": [],
   "source": [
    "# plt.scatter(Z, Y)"
   ]
  },
  {
   "cell_type": "code",
   "execution_count": null,
   "id": "9dcf55f3-721c-435a-bc59-0cb7697ee316",
   "metadata": {
    "tags": []
   },
   "outputs": [],
   "source": [
    "y_pred = model.predict_proba(X_test)[:,1]\n",
    "y_pred[3]"
   ]
  },
  {
   "cell_type": "code",
   "execution_count": null,
   "id": "9308e2df-afaa-4af5-977f-5e03d66fd80b",
   "metadata": {},
   "outputs": [],
   "source": [
    "from sklearn import metrics\n",
    "fpr, tpr, _ = metrics.roc_curve(Y_test,  y_pred)\n",
    "auc = metrics.roc_auc_score(Y_test, y_pred)"
   ]
  },
  {
   "cell_type": "code",
   "execution_count": null,
   "id": "caeef897-0a34-4a79-bc10-9b63940ed658",
   "metadata": {
    "tags": []
   },
   "outputs": [],
   "source": [
    "plt.plot(fpr,tpr,label=\"data 1, auc=\"+str(auc))\n",
    "plt.legend(loc=4)\n",
    "plt.show()"
   ]
  },
  {
   "cell_type": "code",
   "execution_count": null,
   "id": "5987d540-988a-4c65-a262-8db871f3a43f",
   "metadata": {},
   "outputs": [],
   "source": []
  }
 ],
 "metadata": {
  "kernelspec": {
   "display_name": "Python 3 (ipykernel)",
   "language": "python",
   "name": "python3"
  },
  "language_info": {
   "codemirror_mode": {
    "name": "ipython",
    "version": 3
   },
   "file_extension": ".py",
   "mimetype": "text/x-python",
   "name": "python",
   "nbconvert_exporter": "python",
   "pygments_lexer": "ipython3",
   "version": "3.10.10"
  }
 },
 "nbformat": 4,
 "nbformat_minor": 5
}
