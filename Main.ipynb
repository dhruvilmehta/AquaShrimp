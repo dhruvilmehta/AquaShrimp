{
 "cells": [
  {
   "cell_type": "code",
   "execution_count": 1,
   "id": "50cfb790-4d19-4703-8c8b-c1b511d4bfbf",
   "metadata": {
    "tags": []
   },
   "outputs": [],
   "source": [
    "import pandas as pd\n",
    "import numpy as np \n",
    "import seaborn as sns\n",
    "import matplotlib.pyplot as plt \n",
    "%matplotlib inline\n",
    "from sklearn.model_selection import train_test_split "
   ]
  },
  {
   "cell_type": "code",
   "execution_count": 2,
   "id": "ca90f9f3-a316-456d-a4c8-fed9446edb6c",
   "metadata": {
    "tags": []
   },
   "outputs": [
    {
     "data": {
      "text/html": [
       "<div>\n",
       "<style scoped>\n",
       "    .dataframe tbody tr th:only-of-type {\n",
       "        vertical-align: middle;\n",
       "    }\n",
       "\n",
       "    .dataframe tbody tr th {\n",
       "        vertical-align: top;\n",
       "    }\n",
       "\n",
       "    .dataframe thead th {\n",
       "        text-align: right;\n",
       "    }\n",
       "</style>\n",
       "<table border=\"1\" class=\"dataframe\">\n",
       "  <thead>\n",
       "    <tr style=\"text-align: right;\">\n",
       "      <th></th>\n",
       "      <th>DO</th>\n",
       "      <th>pH</th>\n",
       "      <th>Temperature</th>\n",
       "      <th>Ammonia</th>\n",
       "      <th>Nitrite Nitrogen</th>\n",
       "      <th>Carbon Dioxide</th>\n",
       "      <th>Salinity</th>\n",
       "      <th>Health</th>\n",
       "    </tr>\n",
       "  </thead>\n",
       "  <tbody>\n",
       "    <tr>\n",
       "      <th>0</th>\n",
       "      <td>3.7</td>\n",
       "      <td>8.1</td>\n",
       "      <td>29</td>\n",
       "      <td>1.0</td>\n",
       "      <td>1</td>\n",
       "      <td>3.7</td>\n",
       "      <td>22.5</td>\n",
       "      <td>1</td>\n",
       "    </tr>\n",
       "    <tr>\n",
       "      <th>1</th>\n",
       "      <td>3.4</td>\n",
       "      <td>5.6</td>\n",
       "      <td>29</td>\n",
       "      <td>0.3</td>\n",
       "      <td>1</td>\n",
       "      <td>8.7</td>\n",
       "      <td>21.2</td>\n",
       "      <td>0</td>\n",
       "    </tr>\n",
       "    <tr>\n",
       "      <th>2</th>\n",
       "      <td>3.5</td>\n",
       "      <td>7.9</td>\n",
       "      <td>32</td>\n",
       "      <td>0.1</td>\n",
       "      <td>1</td>\n",
       "      <td>2.3</td>\n",
       "      <td>23.2</td>\n",
       "      <td>1</td>\n",
       "    </tr>\n",
       "    <tr>\n",
       "      <th>3</th>\n",
       "      <td>3.4</td>\n",
       "      <td>5.8</td>\n",
       "      <td>28</td>\n",
       "      <td>0.3</td>\n",
       "      <td>1</td>\n",
       "      <td>8.2</td>\n",
       "      <td>16.8</td>\n",
       "      <td>0</td>\n",
       "    </tr>\n",
       "    <tr>\n",
       "      <th>4</th>\n",
       "      <td>3.8</td>\n",
       "      <td>7.5</td>\n",
       "      <td>26</td>\n",
       "      <td>0.3</td>\n",
       "      <td>1</td>\n",
       "      <td>9.9</td>\n",
       "      <td>22.6</td>\n",
       "      <td>1</td>\n",
       "    </tr>\n",
       "  </tbody>\n",
       "</table>\n",
       "</div>"
      ],
      "text/plain": [
       "    DO   pH  Temperature  Ammonia  Nitrite Nitrogen  Carbon Dioxide  Salinity  \\\n",
       "0  3.7  8.1           29      1.0                 1             3.7      22.5   \n",
       "1  3.4  5.6           29      0.3                 1             8.7      21.2   \n",
       "2  3.5  7.9           32      0.1                 1             2.3      23.2   \n",
       "3  3.4  5.8           28      0.3                 1             8.2      16.8   \n",
       "4  3.8  7.5           26      0.3                 1             9.9      22.6   \n",
       "\n",
       "   Health  \n",
       "0       1  \n",
       "1       0  \n",
       "2       1  \n",
       "3       0  \n",
       "4       1  "
      ]
     },
     "execution_count": 2,
     "metadata": {},
     "output_type": "execute_result"
    }
   ],
   "source": [
    "data = pd.read_csv('./Aqua.csv')\n",
    "data.head()"
   ]
  },
  {
   "cell_type": "code",
   "execution_count": 3,
   "id": "87999c8b-84a1-4d55-8bdb-ba58b44b49f4",
   "metadata": {},
   "outputs": [
    {
     "name": "stdout",
     "output_type": "stream",
     "text": [
      "[1 0 1 ... 0 0 1]\n"
     ]
    }
   ],
   "source": [
    "Y=data.iloc[:,7].values\n",
    "print(Y)"
   ]
  },
  {
   "cell_type": "code",
   "execution_count": 4,
   "id": "2bbc771b-8c14-4df5-8cb9-b278379493d7",
   "metadata": {},
   "outputs": [
    {
     "data": {
      "text/html": [
       "<div>\n",
       "<style scoped>\n",
       "    .dataframe tbody tr th:only-of-type {\n",
       "        vertical-align: middle;\n",
       "    }\n",
       "\n",
       "    .dataframe tbody tr th {\n",
       "        vertical-align: top;\n",
       "    }\n",
       "\n",
       "    .dataframe thead th {\n",
       "        text-align: right;\n",
       "    }\n",
       "</style>\n",
       "<table border=\"1\" class=\"dataframe\">\n",
       "  <thead>\n",
       "    <tr style=\"text-align: right;\">\n",
       "      <th></th>\n",
       "      <th>DO</th>\n",
       "      <th>pH</th>\n",
       "      <th>Temperature</th>\n",
       "      <th>Ammonia</th>\n",
       "      <th>Nitrite Nitrogen</th>\n",
       "      <th>Carbon Dioxide</th>\n",
       "      <th>Salinity</th>\n",
       "    </tr>\n",
       "  </thead>\n",
       "  <tbody>\n",
       "    <tr>\n",
       "      <th>0</th>\n",
       "      <td>3.7</td>\n",
       "      <td>8.1</td>\n",
       "      <td>29</td>\n",
       "      <td>1.0</td>\n",
       "      <td>1</td>\n",
       "      <td>3.7</td>\n",
       "      <td>22.5</td>\n",
       "    </tr>\n",
       "    <tr>\n",
       "      <th>1</th>\n",
       "      <td>3.4</td>\n",
       "      <td>5.6</td>\n",
       "      <td>29</td>\n",
       "      <td>0.3</td>\n",
       "      <td>1</td>\n",
       "      <td>8.7</td>\n",
       "      <td>21.2</td>\n",
       "    </tr>\n",
       "    <tr>\n",
       "      <th>2</th>\n",
       "      <td>3.5</td>\n",
       "      <td>7.9</td>\n",
       "      <td>32</td>\n",
       "      <td>0.1</td>\n",
       "      <td>1</td>\n",
       "      <td>2.3</td>\n",
       "      <td>23.2</td>\n",
       "    </tr>\n",
       "    <tr>\n",
       "      <th>3</th>\n",
       "      <td>3.4</td>\n",
       "      <td>5.8</td>\n",
       "      <td>28</td>\n",
       "      <td>0.3</td>\n",
       "      <td>1</td>\n",
       "      <td>8.2</td>\n",
       "      <td>16.8</td>\n",
       "    </tr>\n",
       "    <tr>\n",
       "      <th>4</th>\n",
       "      <td>3.8</td>\n",
       "      <td>7.5</td>\n",
       "      <td>26</td>\n",
       "      <td>0.3</td>\n",
       "      <td>1</td>\n",
       "      <td>9.9</td>\n",
       "      <td>22.6</td>\n",
       "    </tr>\n",
       "    <tr>\n",
       "      <th>...</th>\n",
       "      <td>...</td>\n",
       "      <td>...</td>\n",
       "      <td>...</td>\n",
       "      <td>...</td>\n",
       "      <td>...</td>\n",
       "      <td>...</td>\n",
       "      <td>...</td>\n",
       "    </tr>\n",
       "    <tr>\n",
       "      <th>5094</th>\n",
       "      <td>5.8</td>\n",
       "      <td>10.2</td>\n",
       "      <td>30</td>\n",
       "      <td>0.4</td>\n",
       "      <td>1</td>\n",
       "      <td>8.8</td>\n",
       "      <td>17.3</td>\n",
       "    </tr>\n",
       "    <tr>\n",
       "      <th>5095</th>\n",
       "      <td>3.6</td>\n",
       "      <td>6.9</td>\n",
       "      <td>30</td>\n",
       "      <td>0.9</td>\n",
       "      <td>1</td>\n",
       "      <td>1.8</td>\n",
       "      <td>24.8</td>\n",
       "    </tr>\n",
       "    <tr>\n",
       "      <th>5096</th>\n",
       "      <td>4.5</td>\n",
       "      <td>10.2</td>\n",
       "      <td>26</td>\n",
       "      <td>0.1</td>\n",
       "      <td>1</td>\n",
       "      <td>4.4</td>\n",
       "      <td>10.2</td>\n",
       "    </tr>\n",
       "    <tr>\n",
       "      <th>5097</th>\n",
       "      <td>4.0</td>\n",
       "      <td>8.0</td>\n",
       "      <td>18</td>\n",
       "      <td>1.0</td>\n",
       "      <td>1</td>\n",
       "      <td>11.3</td>\n",
       "      <td>15.6</td>\n",
       "    </tr>\n",
       "    <tr>\n",
       "      <th>5098</th>\n",
       "      <td>3.5</td>\n",
       "      <td>8.4</td>\n",
       "      <td>28</td>\n",
       "      <td>0.2</td>\n",
       "      <td>1</td>\n",
       "      <td>3.7</td>\n",
       "      <td>10.5</td>\n",
       "    </tr>\n",
       "  </tbody>\n",
       "</table>\n",
       "<p>5099 rows × 7 columns</p>\n",
       "</div>"
      ],
      "text/plain": [
       "       DO    pH  Temperature  Ammonia  Nitrite Nitrogen  Carbon Dioxide  \\\n",
       "0     3.7   8.1           29      1.0                 1             3.7   \n",
       "1     3.4   5.6           29      0.3                 1             8.7   \n",
       "2     3.5   7.9           32      0.1                 1             2.3   \n",
       "3     3.4   5.8           28      0.3                 1             8.2   \n",
       "4     3.8   7.5           26      0.3                 1             9.9   \n",
       "...   ...   ...          ...      ...               ...             ...   \n",
       "5094  5.8  10.2           30      0.4                 1             8.8   \n",
       "5095  3.6   6.9           30      0.9                 1             1.8   \n",
       "5096  4.5  10.2           26      0.1                 1             4.4   \n",
       "5097  4.0   8.0           18      1.0                 1            11.3   \n",
       "5098  3.5   8.4           28      0.2                 1             3.7   \n",
       "\n",
       "      Salinity  \n",
       "0         22.5  \n",
       "1         21.2  \n",
       "2         23.2  \n",
       "3         16.8  \n",
       "4         22.6  \n",
       "...        ...  \n",
       "5094      17.3  \n",
       "5095      24.8  \n",
       "5096      10.2  \n",
       "5097      15.6  \n",
       "5098      10.5  \n",
       "\n",
       "[5099 rows x 7 columns]"
      ]
     },
     "execution_count": 4,
     "metadata": {},
     "output_type": "execute_result"
    }
   ],
   "source": [
    "X=data\n",
    "del data[data.columns[-1]]\n",
    "X"
   ]
  },
  {
   "cell_type": "code",
   "execution_count": 5,
   "id": "a73d585c-910f-452a-a49c-4400f7adbe8b",
   "metadata": {
    "tags": []
   },
   "outputs": [
    {
     "data": {
      "text/plain": [
       "array([1, 0, 1, ..., 0, 0, 1], dtype=int64)"
      ]
     },
     "execution_count": 5,
     "metadata": {},
     "output_type": "execute_result"
    }
   ],
   "source": [
    "from sklearn.model_selection import train_test_split\n",
    "X_train,X_test,Y_train,Y_test=train_test_split(X,Y,test_size=0.3,random_state=7)\n",
    "Y"
   ]
  },
  {
   "cell_type": "code",
   "execution_count": 42,
   "id": "d8d347ae-afec-4127-b56d-d8915ba090cd",
   "metadata": {
    "tags": []
   },
   "outputs": [
    {
     "name": "stdout",
     "output_type": "stream",
     "text": [
      "100.0\n"
     ]
    },
    {
     "data": {
      "image/png": "[encoded data removed]",
      "text/plain": [
       "<Figure size 432x288 with 1 Axes>"
      ]
     },
     "metadata": {
      "needs_background": "light"
     },
     "output_type": "display_data"
    }
   ],
   "source": [
    "from sklearn.ensemble import AdaBoostClassifier\n",
    "from sklearn.metrics import accuracy_score\n",
    "# from sklearn.metrics import plot_confusion_matrix\n",
    "model = AdaBoostClassifier(n_estimators=99,learning_rate=1)\n",
    "model.fit(X_train,Y_train)\n",
    "Y_pred=model.predict(X_test)\n",
    "ada_acc=accuracy_score(Y_test,Y_pred)*100\n",
    "print(ada_acc)\n",
    "# plot_confusion_matrix(model, X_test, Y_test) \n",
    "\n",
    "y_pred_proba = model.predict_proba(X_test)[:,1]\n",
    "y_pred_proba[3]\n",
    "from sklearn import metrics\n",
    "fpr, tpr, _ = metrics.roc_curve(Y_test,  y_pred_proba)\n",
    "auc = metrics.roc_auc_score(Y_test, y_pred_proba)\n",
    "plt.plot(fpr,tpr,label=\"data 1, auc=\"+str(auc))\n",
    "plt.legend(loc=4)\n",
    "plt.show()\n",
    "\n",
    "\n",
    "# # Custom Input 1\n",
    "# features = np.array([[200000,20993.0,41.000000,3,6.0,3,3.0,3.0,1.0,1,2,1,0.0,1,3,1.0,3,1,3]])\n",
    "# Y_pred=model.predict(features)\n",
    "# if(Y_pred == 1):\n",
    "#     print(\"Person is likely to buy the package\")\n",
    "# else:\n",
    "#     print(\"Person is less likely to buy the package\")\n",
    "\n",
    "# # Custom Input 2    \n",
    "# features = np.array([[200001,20130.0,49.000000,1,14.0,3,4.0,4.0,2.0,0,3,1,2.0,0,3,2.0,3,2,3]])\n",
    "# Y_pred=model.predict(features)\n",
    "# if(Y_pred == 1):\n",
    "#     print(\"Person is likely to buy the package\")\n",
    "# else:\n",
    "#     print(\"Person is less likely to buy the package\")\n"
   ]
  },
  {
   "cell_type": "code",
   "execution_count": 41,
   "id": "52755644-3638-4e3c-96d1-428aae4ee8ac",
   "metadata": {
    "tags": []
   },
   "outputs": [
    {
     "name": "stdout",
     "output_type": "stream",
     "text": [
      "(3569, 7)\n",
      "[0 1 1 ... 1 1 0]\n",
      "76.6013071895425\n"
     ]
    },
    {
     "data": {
      "image/png": "[encoded data removed]",
      "text/plain": [
       "<Figure size 432x288 with 1 Axes>"
      ]
     },
     "metadata": {
      "needs_background": "light"
     },
     "output_type": "display_data"
    }
   ],
   "source": [
    "from sklearn.linear_model import LogisticRegression\n",
    "from sklearn.metrics import accuracy_score\n",
    "model=LogisticRegression()\n",
    "model.fit(X_train,Y_train)\n",
    "print(X_train.shape)\n",
    "Y_pred=model.predict(X_test)\n",
    "print(Y_pred)\n",
    "Logi_acc=accuracy_score(Y_test,Y_pred)*100\n",
    "print(Logi_acc)\n",
    "\n",
    "y_pred_proba = model.predict_proba(X_test)[:,1]\n",
    "y_pred_proba[3]\n",
    "from sklearn import metrics\n",
    "fpr, tpr, _ = metrics.roc_curve(Y_test,  y_pred_proba)\n",
    "auc = metrics.roc_auc_score(Y_test, y_pred_proba)\n",
    "plt.plot(fpr,tpr,label=\"data 1, auc=\"+str(auc))\n",
    "plt.legend(loc=4)\n",
    "plt.show()\n"
   ]
  },
  {
   "cell_type": "code",
   "execution_count": 43,
   "id": "44818c77-305b-42fb-b324-226554f4bc2d",
   "metadata": {
    "tags": []
   },
   "outputs": [
    {
     "name": "stdout",
     "output_type": "stream",
     "text": [
      "[1 1 0 ... 1 1 1]\n"
     ]
    },
    {
     "data": {
      "image/png": "[encoded data removed]",
      "text/plain": [
       "<Figure size 432x288 with 1 Axes>"
      ]
     },
     "metadata": {
      "needs_background": "light"
     },
     "output_type": "display_data"
    }
   ],
   "source": [
    "#Naive bayes\n",
    "from sklearn.naive_bayes import GaussianNB\n",
    "model= GaussianNB()\n",
    "model.fit(X_train,Y_train)\n",
    "# print(X_test[1])\n",
    "# print(X_test)\n",
    "# print(X_test[0].reshape(1,-1))\n",
    "\n",
    "Y_pred= model.predict(X_test)\n",
    "print(Y_pred)\n",
    "NB_acc=accuracy_score(Y_test,Y_pred)*100\n",
    "NB_acc\n",
    "\n",
    "y_pred_proba = model.predict_proba(X_test)[:,1]\n",
    "y_pred_proba[3]\n",
    "from sklearn import metrics\n",
    "fpr, tpr, _ = metrics.roc_curve(Y_test,  y_pred_proba)\n",
    "auc = metrics.roc_auc_score(Y_test, y_pred_proba)\n",
    "plt.plot(fpr,tpr,label=\"data 1, auc=\"+str(auc))\n",
    "plt.legend(loc=4)\n",
    "plt.show()\n"
   ]
  },
  {
   "cell_type": "code",
   "execution_count": 50,
   "id": "b7cc59b5-8711-4e13-8de8-18fbf00d7b2b",
   "metadata": {
    "tags": []
   },
   "outputs": [
    {
     "name": "stdout",
     "output_type": "stream",
     "text": [
      "[1 0 1 ... 0 0 1]\n"
     ]
    },
    {
     "data": {
      "image/png": "[encoded data removed]",
      "text/plain": [
       "<Figure size 432x288 with 1 Axes>"
      ]
     },
     "metadata": {
      "needs_background": "light"
     },
     "output_type": "display_data"
    }
   ],
   "source": [
    "#SVM\n",
    "from sklearn.svm import SVC\n",
    "model=SVC(kernel=\"linear\",probability=True)  #sometimes kernal= poly or \"rbf\"\n",
    "model.fit(X_train,Y_train)\n",
    "Y_pred= model.predict(X_test)\n",
    "print(Y)\n",
    "SVC_acc=accuracy_score(Y_test,Y_pred)*100\n",
    "SVC_acc\n",
    "\n",
    "y_pred_proba = model.predict_proba(X_test)[:,1]\n",
    "y_pred_proba[3]\n",
    "from sklearn import metrics\n",
    "fpr, tpr, _ = metrics.roc_curve(Y_test,  y_pred_proba)\n",
    "auc = metrics.roc_auc_score(Y_test, y_pred_proba)\n",
    "plt.plot(fpr,tpr,label=\"data 1, auc=\"+str(auc))\n",
    "plt.legend(loc=4)\n",
    "plt.show()\n"
   ]
  },
  {
   "cell_type": "code",
   "execution_count": 47,
   "id": "cbdb7902-32b0-4125-9360-3c7b3197e4ed",
   "metadata": {
    "tags": []
   },
   "outputs": [
    {
     "name": "stdout",
     "output_type": "stream",
     "text": [
      "[1 1 0 ... 1 1 1]\n"
     ]
    },
    {
     "data": {
      "image/png": "[encoded data removed]",
      "text/plain": [
       "<Figure size 432x288 with 1 Axes>"
      ]
     },
     "metadata": {
      "needs_background": "light"
     },
     "output_type": "display_data"
    }
   ],
   "source": [
    "#RandomForest\n",
    "from sklearn.ensemble import RandomForestClassifier\n",
    "model=RandomForestClassifier(n_estimators=100)\n",
    "model.fit(X_train,Y_train)\n",
    "Y_pred= model.predict(X_test)\n",
    "print(Y_pred)\n",
    "RandFor_acc=accuracy_score(Y_test,Y_pred)*100\n",
    "RandFor_acc\n",
    "\n",
    "y_pred_proba = model.predict_proba(X_test)[:,1]\n",
    "y_pred_proba[3]\n",
    "from sklearn import metrics\n",
    "fpr, tpr, _ = metrics.roc_curve(Y_test,  y_pred_proba)\n",
    "auc = metrics.roc_auc_score(Y_test, y_pred_proba)\n",
    "plt.plot(fpr,tpr,label=\"data 1, auc=\"+str(auc))\n",
    "plt.legend(loc=4)\n",
    "plt.show()\n"
   ]
  },
  {
   "cell_type": "code",
   "execution_count": 48,
   "id": "2a5ad260-0548-4021-a8cd-48339f30fc8d",
   "metadata": {
    "tags": []
   },
   "outputs": [
    {
     "name": "stdout",
     "output_type": "stream",
     "text": [
      "[1 1 0 ... 1 1 1]\n"
     ]
    },
    {
     "data": {
      "image/png": "[encoded data removed]",
      "text/plain": [
       "<Figure size 432x288 with 1 Axes>"
      ]
     },
     "metadata": {
      "needs_background": "light"
     },
     "output_type": "display_data"
    }
   ],
   "source": [
    "#KNN\n",
    "from sklearn.neighbors import KNeighborsClassifier\n",
    "model=KNeighborsClassifier(n_neighbors=3)\n",
    "model.fit(X_train,Y_train)\n",
    "Y_pred=model.predict(X_test)\n",
    "print(Y_pred)\n",
    "KNN_acc=accuracy_score(Y_test,Y_pred)*100\n",
    "KNN_acc\n",
    "\n",
    "\n",
    "y_pred_proba = model.predict_proba(X_test)[:,1]\n",
    "y_pred_proba[3]\n",
    "from sklearn import metrics\n",
    "fpr, tpr, _ = metrics.roc_curve(Y_test,  y_pred_proba)\n",
    "auc = metrics.roc_auc_score(Y_test, y_pred_proba)\n",
    "plt.plot(fpr,tpr,label=\"data 1, auc=\"+str(auc))\n",
    "plt.legend(loc=4)\n",
    "plt.show()\n"
   ]
  },
  {
   "cell_type": "code",
   "execution_count": 49,
   "id": "93796a69-ee6f-42c4-92f1-c4253e432f7e",
   "metadata": {
    "tags": []
   },
   "outputs": [
    {
     "name": "stdout",
     "output_type": "stream",
     "text": [
      "[1 1 0 ... 1 1 1]\n"
     ]
    },
    {
     "data": {
      "image/png": "[encoded data removed]",
      "text/plain": [
       "<Figure size 432x288 with 1 Axes>"
      ]
     },
     "metadata": {
      "needs_background": "light"
     },
     "output_type": "display_data"
    }
   ],
   "source": [
    "#decision tree\n",
    "from sklearn.tree import DecisionTreeClassifier\n",
    "model=DecisionTreeClassifier()\n",
    "model.fit(X_train,Y_train)\n",
    "Y_pred= model.predict(X_test)\n",
    "print(Y_pred)\n",
    "DeciTr_acc=accuracy_score(Y_test,Y_pred)*100\n",
    "DeciTr_acc\n",
    "\n",
    "\n",
    "y_pred_proba = model.predict_proba(X_test)[:,1]\n",
    "y_pred_proba[3]\n",
    "from sklearn import metrics\n",
    "fpr, tpr, _ = metrics.roc_curve(Y_test,  y_pred_proba)\n",
    "auc = metrics.roc_auc_score(Y_test, y_pred_proba)\n",
    "plt.plot(fpr,tpr,label=\"data 1, auc=\"+str(auc))\n",
    "plt.legend(loc=4)\n",
    "plt.show()\n"
   ]
  },
  {
   "cell_type": "code",
   "execution_count": 13,
   "id": "413a172b-d7d2-4dbe-91b9-ade192081749",
   "metadata": {
    "tags": []
   },
   "outputs": [
    {
     "data": {
      "text/html": [
       "<div>\n",
       "<style scoped>\n",
       "    .dataframe tbody tr th:only-of-type {\n",
       "        vertical-align: middle;\n",
       "    }\n",
       "\n",
       "    .dataframe tbody tr th {\n",
       "        vertical-align: top;\n",
       "    }\n",
       "\n",
       "    .dataframe thead th {\n",
       "        text-align: right;\n",
       "    }\n",
       "</style>\n",
       "<table border=\"1\" class=\"dataframe\">\n",
       "  <thead>\n",
       "    <tr style=\"text-align: right;\">\n",
       "      <th></th>\n",
       "      <th>Models</th>\n",
       "      <th>Accuracy score</th>\n",
       "    </tr>\n",
       "  </thead>\n",
       "  <tbody>\n",
       "    <tr>\n",
       "      <th>4</th>\n",
       "      <td>Random-Forest Classifier</td>\n",
       "      <td>100.000000</td>\n",
       "    </tr>\n",
       "    <tr>\n",
       "      <th>5</th>\n",
       "      <td>DecisionTreeClassifier</td>\n",
       "      <td>100.000000</td>\n",
       "    </tr>\n",
       "    <tr>\n",
       "      <th>2</th>\n",
       "      <td>GaussianNB</td>\n",
       "      <td>97.450980</td>\n",
       "    </tr>\n",
       "    <tr>\n",
       "      <th>1</th>\n",
       "      <td>KNeighbor Classifier</td>\n",
       "      <td>95.947712</td>\n",
       "    </tr>\n",
       "    <tr>\n",
       "      <th>3</th>\n",
       "      <td>Supprt Vectro Machine</td>\n",
       "      <td>80.261438</td>\n",
       "    </tr>\n",
       "    <tr>\n",
       "      <th>0</th>\n",
       "      <td>Logistic Regression</td>\n",
       "      <td>76.601307</td>\n",
       "    </tr>\n",
       "  </tbody>\n",
       "</table>\n",
       "</div>"
      ],
      "text/plain": [
       "                     Models  Accuracy score\n",
       "4  Random-Forest Classifier      100.000000\n",
       "5    DecisionTreeClassifier      100.000000\n",
       "2                GaussianNB       97.450980\n",
       "1      KNeighbor Classifier       95.947712\n",
       "3     Supprt Vectro Machine       80.261438\n",
       "0       Logistic Regression       76.601307"
      ]
     },
     "execution_count": 13,
     "metadata": {},
     "output_type": "execute_result"
    }
   ],
   "source": [
    "# all models with accuracy score\n",
    "\n",
    "models=pd.DataFrame({'Models':['Logistic Regression','KNeighbor Classifier','GaussianNB','Supprt Vectro Machine','Random-Forest Classifier','DecisionTreeClassifier'],\n",
    "                     'Accuracy score':[Logi_acc,KNN_acc,NB_acc,SVC_acc,RandFor_acc,DeciTr_acc]})\n",
    "models.sort_values(by=\"Accuracy score\",ascending=False)"
   ]
  },
  {
   "cell_type": "code",
   "execution_count": 14,
   "id": "84ae115f-16c8-41ba-bc54-7103cdd18c4c",
   "metadata": {
    "tags": []
   },
   "outputs": [
    {
     "name": "stdout",
     "output_type": "stream",
     "text": [
      "Health is not good!!!\n"
     ]
    },
    {
     "name": "stderr",
     "output_type": "stream",
     "text": [
      "C:\\Users\\dhruv\\AppData\\Local\\Programs\\Python\\Python310\\lib\\site-packages\\sklearn\\base.py:450: UserWarning: X does not have valid feature names, but DecisionTreeClassifier was fitted with feature names\n",
      "  warnings.warn(\n"
     ]
    }
   ],
   "source": [
    "# Custom Input 1\n",
    "features = np.array([[3.2,6.4,30,0.2,1,3.3,12.9]])\n",
    "Y_pred=model.predict(features)\n",
    "if(Y_pred == 1):\n",
    "    print(\"Health is Good!!\")\n",
    "else:\n",
    "    print(\"Health is not good!!!\")\n"
   ]
  },
  {
   "cell_type": "code",
   "execution_count": 15,
   "id": "87120b58-9eba-4e17-bc43-b02dae9691c0",
   "metadata": {
    "tags": []
   },
   "outputs": [],
   "source": [
    "import matplotlib.pyplot as plt"
   ]
  },
  {
   "cell_type": "code",
   "execution_count": 22,
   "id": "8d08f695-322b-4b30-8818-830c107d0074",
   "metadata": {
    "tags": []
   },
   "outputs": [
    {
     "data": {
      "text/plain": [
       "0        3.7\n",
       "1        8.7\n",
       "2        2.3\n",
       "3        8.2\n",
       "4        9.9\n",
       "        ... \n",
       "5094     8.8\n",
       "5095     1.8\n",
       "5096     4.4\n",
       "5097    11.3\n",
       "5098     3.7\n",
       "Name: Carbon Dioxide, Length: 5099, dtype: float64"
      ]
     },
     "execution_count": 22,
     "metadata": {},
     "output_type": "execute_result"
    }
   ],
   "source": [
    "Z=X.iloc[:,5]\n",
    "Z"
   ]
  },
  {
   "cell_type": "code",
   "execution_count": 23,
   "id": "c67e50e8-e68a-4121-9d58-bb9640329f32",
   "metadata": {
    "tags": []
   },
   "outputs": [
    {
     "data": {
      "text/plain": [
       "<matplotlib.collections.PathCollection at 0x158b1c1bf40>"
      ]
     },
     "execution_count": 23,
     "metadata": {},
     "output_type": "execute_result"
    },
    {
     "data": {
      "image/png": "[encoded data removed]",
      "text/plain": [
       "<Figure size 432x288 with 1 Axes>"
      ]
     },
     "metadata": {
      "needs_background": "light"
     },
     "output_type": "display_data"
    }
   ],
   "source": [
    "plt.scatter(Z, Y)"
   ]
  },
  {
   "cell_type": "code",
   "execution_count": 33,
   "id": "9dcf55f3-721c-435a-bc59-0cb7697ee316",
   "metadata": {
    "tags": []
   },
   "outputs": [
    {
     "data": {
      "text/plain": [
       "1.0"
      ]
     },
     "execution_count": 33,
     "metadata": {},
     "output_type": "execute_result"
    }
   ],
   "source": [
    "y_pred = model.predict_proba(X_test)[:,1]\n",
    "y_pred[3]"
   ]
  },
  {
   "cell_type": "code",
   "execution_count": 39,
   "id": "9308e2df-afaa-4af5-977f-5e03d66fd80b",
   "metadata": {},
   "outputs": [],
   "source": [
    "from sklearn import metrics\n",
    "fpr, tpr, _ = metrics.roc_curve(Y_test,  y_pred)\n",
    "auc = metrics.roc_auc_score(Y_test, y_pred)"
   ]
  },
  {
   "cell_type": "code",
   "execution_count": 40,
   "id": "caeef897-0a34-4a79-bc10-9b63940ed658",
   "metadata": {
    "tags": []
   },
   "outputs": [
    {
     "data": {
      "image/png": "[encoded data removed]",
      "text/plain": [
       "<Figure size 432x288 with 1 Axes>"
      ]
     },
     "metadata": {
      "needs_background": "light"
     },
     "output_type": "display_data"
    }
   ],
   "source": [
    "plt.plot(fpr,tpr,label=\"data 1, auc=\"+str(auc))\n",
    "plt.legend(loc=4)\n",
    "plt.show()"
   ]
  },
  {
   "cell_type": "code",
   "execution_count": null,
   "id": "5987d540-988a-4c65-a262-8db871f3a43f",
   "metadata": {},
   "outputs": [],
   "source": []
  }
 ],
 "metadata": {
  "kernelspec": {
   "display_name": "Python 3 (ipykernel)",
   "language": "python",
   "name": "python3"
  },
  "language_info": {
   "codemirror_mode": {
    "name": "ipython",
    "version": 3
   },
   "file_extension": ".py",
   "mimetype": "text/x-python",
   "name": "python",
   "nbconvert_exporter": "python",
   "pygments_lexer": "ipython3",
   "version": "3.10.0"
  }
 },
 "nbformat": 4,
 "nbformat_minor": 5
}
